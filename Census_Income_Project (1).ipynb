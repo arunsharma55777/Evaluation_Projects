{
 "cells": [
  {
   "cell_type": "code",
   "execution_count": 1,
   "id": "3ef2408b",
   "metadata": {},
   "outputs": [],
   "source": [
    "import numpy as np\n",
    "import pandas as pd"
   ]
  },
  {
   "cell_type": "code",
   "execution_count": 2,
   "id": "dc048780",
   "metadata": {},
   "outputs": [],
   "source": [
    "df = pd.read_csv(\"https://raw.githubusercontent.com/dsrscientist/dataset1/master/census_income.csv\")"
   ]
  },
  {
   "cell_type": "code",
   "execution_count": 3,
   "id": "957a64c5",
   "metadata": {},
   "outputs": [
    {
     "data": {
      "text/html": [
       "<div>\n",
       "<style scoped>\n",
       "    .dataframe tbody tr th:only-of-type {\n",
       "        vertical-align: middle;\n",
       "    }\n",
       "\n",
       "    .dataframe tbody tr th {\n",
       "        vertical-align: top;\n",
       "    }\n",
       "\n",
       "    .dataframe thead th {\n",
       "        text-align: right;\n",
       "    }\n",
       "</style>\n",
       "<table border=\"1\" class=\"dataframe\">\n",
       "  <thead>\n",
       "    <tr style=\"text-align: right;\">\n",
       "      <th></th>\n",
       "      <th>Age</th>\n",
       "      <th>Workclass</th>\n",
       "      <th>Fnlwgt</th>\n",
       "      <th>Education</th>\n",
       "      <th>Education_num</th>\n",
       "      <th>Marital_status</th>\n",
       "      <th>Occupation</th>\n",
       "      <th>Relationship</th>\n",
       "      <th>Race</th>\n",
       "      <th>Sex</th>\n",
       "      <th>Capital_gain</th>\n",
       "      <th>Capital_loss</th>\n",
       "      <th>Hours_per_week</th>\n",
       "      <th>Native_country</th>\n",
       "      <th>Income</th>\n",
       "    </tr>\n",
       "  </thead>\n",
       "  <tbody>\n",
       "    <tr>\n",
       "      <th>0</th>\n",
       "      <td>50</td>\n",
       "      <td>Self-emp-not-inc</td>\n",
       "      <td>83311</td>\n",
       "      <td>Bachelors</td>\n",
       "      <td>13</td>\n",
       "      <td>Married-civ-spouse</td>\n",
       "      <td>Exec-managerial</td>\n",
       "      <td>Husband</td>\n",
       "      <td>White</td>\n",
       "      <td>Male</td>\n",
       "      <td>0</td>\n",
       "      <td>0</td>\n",
       "      <td>13</td>\n",
       "      <td>United-States</td>\n",
       "      <td>&lt;=50K</td>\n",
       "    </tr>\n",
       "    <tr>\n",
       "      <th>1</th>\n",
       "      <td>38</td>\n",
       "      <td>Private</td>\n",
       "      <td>215646</td>\n",
       "      <td>HS-grad</td>\n",
       "      <td>9</td>\n",
       "      <td>Divorced</td>\n",
       "      <td>Handlers-cleaners</td>\n",
       "      <td>Not-in-family</td>\n",
       "      <td>White</td>\n",
       "      <td>Male</td>\n",
       "      <td>0</td>\n",
       "      <td>0</td>\n",
       "      <td>40</td>\n",
       "      <td>United-States</td>\n",
       "      <td>&lt;=50K</td>\n",
       "    </tr>\n",
       "    <tr>\n",
       "      <th>2</th>\n",
       "      <td>53</td>\n",
       "      <td>Private</td>\n",
       "      <td>234721</td>\n",
       "      <td>11th</td>\n",
       "      <td>7</td>\n",
       "      <td>Married-civ-spouse</td>\n",
       "      <td>Handlers-cleaners</td>\n",
       "      <td>Husband</td>\n",
       "      <td>Black</td>\n",
       "      <td>Male</td>\n",
       "      <td>0</td>\n",
       "      <td>0</td>\n",
       "      <td>40</td>\n",
       "      <td>United-States</td>\n",
       "      <td>&lt;=50K</td>\n",
       "    </tr>\n",
       "    <tr>\n",
       "      <th>3</th>\n",
       "      <td>28</td>\n",
       "      <td>Private</td>\n",
       "      <td>338409</td>\n",
       "      <td>Bachelors</td>\n",
       "      <td>13</td>\n",
       "      <td>Married-civ-spouse</td>\n",
       "      <td>Prof-specialty</td>\n",
       "      <td>Wife</td>\n",
       "      <td>Black</td>\n",
       "      <td>Female</td>\n",
       "      <td>0</td>\n",
       "      <td>0</td>\n",
       "      <td>40</td>\n",
       "      <td>Cuba</td>\n",
       "      <td>&lt;=50K</td>\n",
       "    </tr>\n",
       "    <tr>\n",
       "      <th>4</th>\n",
       "      <td>37</td>\n",
       "      <td>Private</td>\n",
       "      <td>284582</td>\n",
       "      <td>Masters</td>\n",
       "      <td>14</td>\n",
       "      <td>Married-civ-spouse</td>\n",
       "      <td>Exec-managerial</td>\n",
       "      <td>Wife</td>\n",
       "      <td>White</td>\n",
       "      <td>Female</td>\n",
       "      <td>0</td>\n",
       "      <td>0</td>\n",
       "      <td>40</td>\n",
       "      <td>United-States</td>\n",
       "      <td>&lt;=50K</td>\n",
       "    </tr>\n",
       "  </tbody>\n",
       "</table>\n",
       "</div>"
      ],
      "text/plain": [
       "   Age          Workclass  Fnlwgt   Education  Education_num  \\\n",
       "0   50   Self-emp-not-inc   83311   Bachelors             13   \n",
       "1   38            Private  215646     HS-grad              9   \n",
       "2   53            Private  234721        11th              7   \n",
       "3   28            Private  338409   Bachelors             13   \n",
       "4   37            Private  284582     Masters             14   \n",
       "\n",
       "        Marital_status          Occupation    Relationship    Race      Sex  \\\n",
       "0   Married-civ-spouse     Exec-managerial         Husband   White     Male   \n",
       "1             Divorced   Handlers-cleaners   Not-in-family   White     Male   \n",
       "2   Married-civ-spouse   Handlers-cleaners         Husband   Black     Male   \n",
       "3   Married-civ-spouse      Prof-specialty            Wife   Black   Female   \n",
       "4   Married-civ-spouse     Exec-managerial            Wife   White   Female   \n",
       "\n",
       "   Capital_gain  Capital_loss  Hours_per_week  Native_country  Income  \n",
       "0             0             0              13   United-States   <=50K  \n",
       "1             0             0              40   United-States   <=50K  \n",
       "2             0             0              40   United-States   <=50K  \n",
       "3             0             0              40            Cuba   <=50K  \n",
       "4             0             0              40   United-States   <=50K  "
      ]
     },
     "execution_count": 3,
     "metadata": {},
     "output_type": "execute_result"
    }
   ],
   "source": [
    "df.head()"
   ]
  },
  {
   "cell_type": "code",
   "execution_count": 4,
   "id": "6dca96a2",
   "metadata": {},
   "outputs": [
    {
     "data": {
      "text/html": [
       "<div>\n",
       "<style scoped>\n",
       "    .dataframe tbody tr th:only-of-type {\n",
       "        vertical-align: middle;\n",
       "    }\n",
       "\n",
       "    .dataframe tbody tr th {\n",
       "        vertical-align: top;\n",
       "    }\n",
       "\n",
       "    .dataframe thead th {\n",
       "        text-align: right;\n",
       "    }\n",
       "</style>\n",
       "<table border=\"1\" class=\"dataframe\">\n",
       "  <thead>\n",
       "    <tr style=\"text-align: right;\">\n",
       "      <th></th>\n",
       "      <th>Age</th>\n",
       "      <th>Workclass</th>\n",
       "      <th>Fnlwgt</th>\n",
       "      <th>Education</th>\n",
       "      <th>Education_num</th>\n",
       "      <th>Marital_status</th>\n",
       "      <th>Occupation</th>\n",
       "      <th>Relationship</th>\n",
       "      <th>Race</th>\n",
       "      <th>Sex</th>\n",
       "      <th>Capital_gain</th>\n",
       "      <th>Capital_loss</th>\n",
       "      <th>Hours_per_week</th>\n",
       "      <th>Native_country</th>\n",
       "      <th>Income</th>\n",
       "    </tr>\n",
       "  </thead>\n",
       "  <tbody>\n",
       "    <tr>\n",
       "      <th>0</th>\n",
       "      <td>50</td>\n",
       "      <td>Self-emp-not-inc</td>\n",
       "      <td>83311</td>\n",
       "      <td>Bachelors</td>\n",
       "      <td>13</td>\n",
       "      <td>Married-civ-spouse</td>\n",
       "      <td>Exec-managerial</td>\n",
       "      <td>Husband</td>\n",
       "      <td>White</td>\n",
       "      <td>Male</td>\n",
       "      <td>0</td>\n",
       "      <td>0</td>\n",
       "      <td>13</td>\n",
       "      <td>United-States</td>\n",
       "      <td>&lt;=50K</td>\n",
       "    </tr>\n",
       "    <tr>\n",
       "      <th>1</th>\n",
       "      <td>38</td>\n",
       "      <td>Private</td>\n",
       "      <td>215646</td>\n",
       "      <td>HS-grad</td>\n",
       "      <td>9</td>\n",
       "      <td>Divorced</td>\n",
       "      <td>Handlers-cleaners</td>\n",
       "      <td>Not-in-family</td>\n",
       "      <td>White</td>\n",
       "      <td>Male</td>\n",
       "      <td>0</td>\n",
       "      <td>0</td>\n",
       "      <td>40</td>\n",
       "      <td>United-States</td>\n",
       "      <td>&lt;=50K</td>\n",
       "    </tr>\n",
       "    <tr>\n",
       "      <th>2</th>\n",
       "      <td>53</td>\n",
       "      <td>Private</td>\n",
       "      <td>234721</td>\n",
       "      <td>11th</td>\n",
       "      <td>7</td>\n",
       "      <td>Married-civ-spouse</td>\n",
       "      <td>Handlers-cleaners</td>\n",
       "      <td>Husband</td>\n",
       "      <td>Black</td>\n",
       "      <td>Male</td>\n",
       "      <td>0</td>\n",
       "      <td>0</td>\n",
       "      <td>40</td>\n",
       "      <td>United-States</td>\n",
       "      <td>&lt;=50K</td>\n",
       "    </tr>\n",
       "    <tr>\n",
       "      <th>3</th>\n",
       "      <td>28</td>\n",
       "      <td>Private</td>\n",
       "      <td>338409</td>\n",
       "      <td>Bachelors</td>\n",
       "      <td>13</td>\n",
       "      <td>Married-civ-spouse</td>\n",
       "      <td>Prof-specialty</td>\n",
       "      <td>Wife</td>\n",
       "      <td>Black</td>\n",
       "      <td>Female</td>\n",
       "      <td>0</td>\n",
       "      <td>0</td>\n",
       "      <td>40</td>\n",
       "      <td>Cuba</td>\n",
       "      <td>&lt;=50K</td>\n",
       "    </tr>\n",
       "    <tr>\n",
       "      <th>4</th>\n",
       "      <td>37</td>\n",
       "      <td>Private</td>\n",
       "      <td>284582</td>\n",
       "      <td>Masters</td>\n",
       "      <td>14</td>\n",
       "      <td>Married-civ-spouse</td>\n",
       "      <td>Exec-managerial</td>\n",
       "      <td>Wife</td>\n",
       "      <td>White</td>\n",
       "      <td>Female</td>\n",
       "      <td>0</td>\n",
       "      <td>0</td>\n",
       "      <td>40</td>\n",
       "      <td>United-States</td>\n",
       "      <td>&lt;=50K</td>\n",
       "    </tr>\n",
       "    <tr>\n",
       "      <th>...</th>\n",
       "      <td>...</td>\n",
       "      <td>...</td>\n",
       "      <td>...</td>\n",
       "      <td>...</td>\n",
       "      <td>...</td>\n",
       "      <td>...</td>\n",
       "      <td>...</td>\n",
       "      <td>...</td>\n",
       "      <td>...</td>\n",
       "      <td>...</td>\n",
       "      <td>...</td>\n",
       "      <td>...</td>\n",
       "      <td>...</td>\n",
       "      <td>...</td>\n",
       "      <td>...</td>\n",
       "    </tr>\n",
       "    <tr>\n",
       "      <th>32555</th>\n",
       "      <td>27</td>\n",
       "      <td>Private</td>\n",
       "      <td>257302</td>\n",
       "      <td>Assoc-acdm</td>\n",
       "      <td>12</td>\n",
       "      <td>Married-civ-spouse</td>\n",
       "      <td>Tech-support</td>\n",
       "      <td>Wife</td>\n",
       "      <td>White</td>\n",
       "      <td>Female</td>\n",
       "      <td>0</td>\n",
       "      <td>0</td>\n",
       "      <td>38</td>\n",
       "      <td>United-States</td>\n",
       "      <td>&lt;=50K</td>\n",
       "    </tr>\n",
       "    <tr>\n",
       "      <th>32556</th>\n",
       "      <td>40</td>\n",
       "      <td>Private</td>\n",
       "      <td>154374</td>\n",
       "      <td>HS-grad</td>\n",
       "      <td>9</td>\n",
       "      <td>Married-civ-spouse</td>\n",
       "      <td>Machine-op-inspct</td>\n",
       "      <td>Husband</td>\n",
       "      <td>White</td>\n",
       "      <td>Male</td>\n",
       "      <td>0</td>\n",
       "      <td>0</td>\n",
       "      <td>40</td>\n",
       "      <td>United-States</td>\n",
       "      <td>&gt;50K</td>\n",
       "    </tr>\n",
       "    <tr>\n",
       "      <th>32557</th>\n",
       "      <td>58</td>\n",
       "      <td>Private</td>\n",
       "      <td>151910</td>\n",
       "      <td>HS-grad</td>\n",
       "      <td>9</td>\n",
       "      <td>Widowed</td>\n",
       "      <td>Adm-clerical</td>\n",
       "      <td>Unmarried</td>\n",
       "      <td>White</td>\n",
       "      <td>Female</td>\n",
       "      <td>0</td>\n",
       "      <td>0</td>\n",
       "      <td>40</td>\n",
       "      <td>United-States</td>\n",
       "      <td>&lt;=50K</td>\n",
       "    </tr>\n",
       "    <tr>\n",
       "      <th>32558</th>\n",
       "      <td>22</td>\n",
       "      <td>Private</td>\n",
       "      <td>201490</td>\n",
       "      <td>HS-grad</td>\n",
       "      <td>9</td>\n",
       "      <td>Never-married</td>\n",
       "      <td>Adm-clerical</td>\n",
       "      <td>Own-child</td>\n",
       "      <td>White</td>\n",
       "      <td>Male</td>\n",
       "      <td>0</td>\n",
       "      <td>0</td>\n",
       "      <td>20</td>\n",
       "      <td>United-States</td>\n",
       "      <td>&lt;=50K</td>\n",
       "    </tr>\n",
       "    <tr>\n",
       "      <th>32559</th>\n",
       "      <td>52</td>\n",
       "      <td>Self-emp-inc</td>\n",
       "      <td>287927</td>\n",
       "      <td>HS-grad</td>\n",
       "      <td>9</td>\n",
       "      <td>Married-civ-spouse</td>\n",
       "      <td>Exec-managerial</td>\n",
       "      <td>Wife</td>\n",
       "      <td>White</td>\n",
       "      <td>Female</td>\n",
       "      <td>15024</td>\n",
       "      <td>0</td>\n",
       "      <td>40</td>\n",
       "      <td>United-States</td>\n",
       "      <td>&gt;50K</td>\n",
       "    </tr>\n",
       "  </tbody>\n",
       "</table>\n",
       "<p>32560 rows × 15 columns</p>\n",
       "</div>"
      ],
      "text/plain": [
       "       Age          Workclass  Fnlwgt    Education  Education_num  \\\n",
       "0       50   Self-emp-not-inc   83311    Bachelors             13   \n",
       "1       38            Private  215646      HS-grad              9   \n",
       "2       53            Private  234721         11th              7   \n",
       "3       28            Private  338409    Bachelors             13   \n",
       "4       37            Private  284582      Masters             14   \n",
       "...    ...                ...     ...          ...            ...   \n",
       "32555   27            Private  257302   Assoc-acdm             12   \n",
       "32556   40            Private  154374      HS-grad              9   \n",
       "32557   58            Private  151910      HS-grad              9   \n",
       "32558   22            Private  201490      HS-grad              9   \n",
       "32559   52       Self-emp-inc  287927      HS-grad              9   \n",
       "\n",
       "            Marital_status          Occupation    Relationship    Race  \\\n",
       "0       Married-civ-spouse     Exec-managerial         Husband   White   \n",
       "1                 Divorced   Handlers-cleaners   Not-in-family   White   \n",
       "2       Married-civ-spouse   Handlers-cleaners         Husband   Black   \n",
       "3       Married-civ-spouse      Prof-specialty            Wife   Black   \n",
       "4       Married-civ-spouse     Exec-managerial            Wife   White   \n",
       "...                    ...                 ...             ...     ...   \n",
       "32555   Married-civ-spouse        Tech-support            Wife   White   \n",
       "32556   Married-civ-spouse   Machine-op-inspct         Husband   White   \n",
       "32557              Widowed        Adm-clerical       Unmarried   White   \n",
       "32558        Never-married        Adm-clerical       Own-child   White   \n",
       "32559   Married-civ-spouse     Exec-managerial            Wife   White   \n",
       "\n",
       "           Sex  Capital_gain  Capital_loss  Hours_per_week  Native_country  \\\n",
       "0         Male             0             0              13   United-States   \n",
       "1         Male             0             0              40   United-States   \n",
       "2         Male             0             0              40   United-States   \n",
       "3       Female             0             0              40            Cuba   \n",
       "4       Female             0             0              40   United-States   \n",
       "...        ...           ...           ...             ...             ...   \n",
       "32555   Female             0             0              38   United-States   \n",
       "32556     Male             0             0              40   United-States   \n",
       "32557   Female             0             0              40   United-States   \n",
       "32558     Male             0             0              20   United-States   \n",
       "32559   Female         15024             0              40   United-States   \n",
       "\n",
       "       Income  \n",
       "0       <=50K  \n",
       "1       <=50K  \n",
       "2       <=50K  \n",
       "3       <=50K  \n",
       "4       <=50K  \n",
       "...       ...  \n",
       "32555   <=50K  \n",
       "32556    >50K  \n",
       "32557   <=50K  \n",
       "32558   <=50K  \n",
       "32559    >50K  \n",
       "\n",
       "[32560 rows x 15 columns]"
      ]
     },
     "execution_count": 4,
     "metadata": {},
     "output_type": "execute_result"
    }
   ],
   "source": [
    "df"
   ]
  },
  {
   "cell_type": "code",
   "execution_count": 5,
   "id": "48ea8ef4",
   "metadata": {},
   "outputs": [
    {
     "data": {
      "text/plain": [
       "(32560, 15)"
      ]
     },
     "execution_count": 5,
     "metadata": {},
     "output_type": "execute_result"
    }
   ],
   "source": [
    "df.shape"
   ]
  },
  {
   "cell_type": "code",
   "execution_count": 6,
   "id": "c5f014a6",
   "metadata": {},
   "outputs": [
    {
     "data": {
      "text/plain": [
       "Age                int64\n",
       "Workclass         object\n",
       "Fnlwgt             int64\n",
       "Education         object\n",
       "Education_num      int64\n",
       "Marital_status    object\n",
       "Occupation        object\n",
       "Relationship      object\n",
       "Race              object\n",
       "Sex               object\n",
       "Capital_gain       int64\n",
       "Capital_loss       int64\n",
       "Hours_per_week     int64\n",
       "Native_country    object\n",
       "Income            object\n",
       "dtype: object"
      ]
     },
     "execution_count": 6,
     "metadata": {},
     "output_type": "execute_result"
    }
   ],
   "source": [
    "df.dtypes"
   ]
  },
  {
   "cell_type": "code",
   "execution_count": 7,
   "id": "34859a55",
   "metadata": {},
   "outputs": [
    {
     "name": "stdout",
     "output_type": "stream",
     "text": [
      "<class 'pandas.core.frame.DataFrame'>\n",
      "RangeIndex: 32560 entries, 0 to 32559\n",
      "Data columns (total 15 columns):\n",
      " #   Column          Non-Null Count  Dtype \n",
      "---  ------          --------------  ----- \n",
      " 0   Age             32560 non-null  int64 \n",
      " 1   Workclass       32560 non-null  object\n",
      " 2   Fnlwgt          32560 non-null  int64 \n",
      " 3   Education       32560 non-null  object\n",
      " 4   Education_num   32560 non-null  int64 \n",
      " 5   Marital_status  32560 non-null  object\n",
      " 6   Occupation      32560 non-null  object\n",
      " 7   Relationship    32560 non-null  object\n",
      " 8   Race            32560 non-null  object\n",
      " 9   Sex             32560 non-null  object\n",
      " 10  Capital_gain    32560 non-null  int64 \n",
      " 11  Capital_loss    32560 non-null  int64 \n",
      " 12  Hours_per_week  32560 non-null  int64 \n",
      " 13  Native_country  32560 non-null  object\n",
      " 14  Income          32560 non-null  object\n",
      "dtypes: int64(6), object(9)\n",
      "memory usage: 3.7+ MB\n"
     ]
    }
   ],
   "source": [
    "df.info()"
   ]
  },
  {
   "cell_type": "code",
   "execution_count": 8,
   "id": "d4357ec6",
   "metadata": {},
   "outputs": [
    {
     "data": {
      "text/html": [
       "<div>\n",
       "<style scoped>\n",
       "    .dataframe tbody tr th:only-of-type {\n",
       "        vertical-align: middle;\n",
       "    }\n",
       "\n",
       "    .dataframe tbody tr th {\n",
       "        vertical-align: top;\n",
       "    }\n",
       "\n",
       "    .dataframe thead th {\n",
       "        text-align: right;\n",
       "    }\n",
       "</style>\n",
       "<table border=\"1\" class=\"dataframe\">\n",
       "  <thead>\n",
       "    <tr style=\"text-align: right;\">\n",
       "      <th></th>\n",
       "      <th>Age</th>\n",
       "      <th>Fnlwgt</th>\n",
       "      <th>Education_num</th>\n",
       "      <th>Capital_gain</th>\n",
       "      <th>Capital_loss</th>\n",
       "      <th>Hours_per_week</th>\n",
       "    </tr>\n",
       "  </thead>\n",
       "  <tbody>\n",
       "    <tr>\n",
       "      <th>count</th>\n",
       "      <td>32560.000000</td>\n",
       "      <td>3.256000e+04</td>\n",
       "      <td>32560.000000</td>\n",
       "      <td>32560.000000</td>\n",
       "      <td>32560.000000</td>\n",
       "      <td>32560.000000</td>\n",
       "    </tr>\n",
       "    <tr>\n",
       "      <th>mean</th>\n",
       "      <td>38.581634</td>\n",
       "      <td>1.897818e+05</td>\n",
       "      <td>10.080590</td>\n",
       "      <td>1077.615172</td>\n",
       "      <td>87.306511</td>\n",
       "      <td>40.437469</td>\n",
       "    </tr>\n",
       "    <tr>\n",
       "      <th>std</th>\n",
       "      <td>13.640642</td>\n",
       "      <td>1.055498e+05</td>\n",
       "      <td>2.572709</td>\n",
       "      <td>7385.402999</td>\n",
       "      <td>402.966116</td>\n",
       "      <td>12.347618</td>\n",
       "    </tr>\n",
       "    <tr>\n",
       "      <th>min</th>\n",
       "      <td>17.000000</td>\n",
       "      <td>1.228500e+04</td>\n",
       "      <td>1.000000</td>\n",
       "      <td>0.000000</td>\n",
       "      <td>0.000000</td>\n",
       "      <td>1.000000</td>\n",
       "    </tr>\n",
       "    <tr>\n",
       "      <th>25%</th>\n",
       "      <td>28.000000</td>\n",
       "      <td>1.178315e+05</td>\n",
       "      <td>9.000000</td>\n",
       "      <td>0.000000</td>\n",
       "      <td>0.000000</td>\n",
       "      <td>40.000000</td>\n",
       "    </tr>\n",
       "    <tr>\n",
       "      <th>50%</th>\n",
       "      <td>37.000000</td>\n",
       "      <td>1.783630e+05</td>\n",
       "      <td>10.000000</td>\n",
       "      <td>0.000000</td>\n",
       "      <td>0.000000</td>\n",
       "      <td>40.000000</td>\n",
       "    </tr>\n",
       "    <tr>\n",
       "      <th>75%</th>\n",
       "      <td>48.000000</td>\n",
       "      <td>2.370545e+05</td>\n",
       "      <td>12.000000</td>\n",
       "      <td>0.000000</td>\n",
       "      <td>0.000000</td>\n",
       "      <td>45.000000</td>\n",
       "    </tr>\n",
       "    <tr>\n",
       "      <th>max</th>\n",
       "      <td>90.000000</td>\n",
       "      <td>1.484705e+06</td>\n",
       "      <td>16.000000</td>\n",
       "      <td>99999.000000</td>\n",
       "      <td>4356.000000</td>\n",
       "      <td>99.000000</td>\n",
       "    </tr>\n",
       "  </tbody>\n",
       "</table>\n",
       "</div>"
      ],
      "text/plain": [
       "                Age        Fnlwgt  Education_num  Capital_gain  Capital_loss  \\\n",
       "count  32560.000000  3.256000e+04   32560.000000  32560.000000  32560.000000   \n",
       "mean      38.581634  1.897818e+05      10.080590   1077.615172     87.306511   \n",
       "std       13.640642  1.055498e+05       2.572709   7385.402999    402.966116   \n",
       "min       17.000000  1.228500e+04       1.000000      0.000000      0.000000   \n",
       "25%       28.000000  1.178315e+05       9.000000      0.000000      0.000000   \n",
       "50%       37.000000  1.783630e+05      10.000000      0.000000      0.000000   \n",
       "75%       48.000000  2.370545e+05      12.000000      0.000000      0.000000   \n",
       "max       90.000000  1.484705e+06      16.000000  99999.000000   4356.000000   \n",
       "\n",
       "       Hours_per_week  \n",
       "count    32560.000000  \n",
       "mean        40.437469  \n",
       "std         12.347618  \n",
       "min          1.000000  \n",
       "25%         40.000000  \n",
       "50%         40.000000  \n",
       "75%         45.000000  \n",
       "max         99.000000  "
      ]
     },
     "execution_count": 8,
     "metadata": {},
     "output_type": "execute_result"
    }
   ],
   "source": [
    "df.describe()"
   ]
  },
  {
   "cell_type": "code",
   "execution_count": 9,
   "id": "efc9f91e",
   "metadata": {},
   "outputs": [
    {
     "data": {
      "text/plain": [
       "Age               0\n",
       "Workclass         0\n",
       "Fnlwgt            0\n",
       "Education         0\n",
       "Education_num     0\n",
       "Marital_status    0\n",
       "Occupation        0\n",
       "Relationship      0\n",
       "Race              0\n",
       "Sex               0\n",
       "Capital_gain      0\n",
       "Capital_loss      0\n",
       "Hours_per_week    0\n",
       "Native_country    0\n",
       "Income            0\n",
       "dtype: int64"
      ]
     },
     "execution_count": 9,
     "metadata": {},
     "output_type": "execute_result"
    }
   ],
   "source": [
    "df.isnull().sum()"
   ]
  },
  {
   "cell_type": "code",
   "execution_count": 10,
   "id": "962e093d",
   "metadata": {},
   "outputs": [
    {
     "data": {
      "text/plain": [
       "0"
      ]
     },
     "execution_count": 10,
     "metadata": {},
     "output_type": "execute_result"
    }
   ],
   "source": [
    "df.isnull().sum().sum()"
   ]
  },
  {
   "cell_type": "markdown",
   "id": "decd34b3",
   "metadata": {},
   "source": [
    "## Univariate Analysis"
   ]
  },
  {
   "cell_type": "code",
   "execution_count": 11,
   "id": "9f2a64b5",
   "metadata": {},
   "outputs": [],
   "source": [
    "import matplotlib.pyplot as plt\n",
    "import seaborn as sns"
   ]
  },
  {
   "cell_type": "code",
   "execution_count": 12,
   "id": "a0fe6a5f",
   "metadata": {},
   "outputs": [],
   "source": [
    "#lets make a function for countplot\n",
    "def countplot(a):\n",
    "    plt.figure(figsize=[20,5])\n",
    "    sns.countplot(x=a,data=df)\n",
    "    plt.show()\n",
    "    print(\"From the above plot we observe : \\n\",\n",
    "           df[a].value_counts())"
   ]
  },
  {
   "cell_type": "code",
   "execution_count": 13,
   "id": "1068a7f1",
   "metadata": {},
   "outputs": [
    {
     "data": {
      "image/png": "[encoded data removed]",
      "text/plain": [
       "<Figure size 1440x360 with 1 Axes>"
      ]
     },
     "metadata": {
      "needs_background": "light"
     },
     "output_type": "display_data"
    },
    {
     "name": "stdout",
     "output_type": "stream",
     "text": [
      "From the above plot we observe : \n",
      "  Private             22696\n",
      " Self-emp-not-inc     2541\n",
      " Local-gov            2093\n",
      " ?                    1836\n",
      " State-gov            1297\n",
      " Self-emp-inc         1116\n",
      " Federal-gov           960\n",
      " Without-pay            14\n",
      " Never-worked            7\n",
      "Name: Workclass, dtype: int64\n"
     ]
    }
   ],
   "source": [
    "countplot(\"Workclass\")"
   ]
  },
  {
   "cell_type": "code",
   "execution_count": 14,
   "id": "127e95e0",
   "metadata": {},
   "outputs": [
    {
     "data": {
      "image/png": "[encoded data removed]",
      "text/plain": [
       "<Figure size 1440x360 with 1 Axes>"
      ]
     },
     "metadata": {
      "needs_background": "light"
     },
     "output_type": "display_data"
    },
    {
     "name": "stdout",
     "output_type": "stream",
     "text": [
      "From the above plot we observe : \n",
      "  <=50K    24719\n",
      " >50K      7841\n",
      "Name: Income, dtype: int64\n"
     ]
    }
   ],
   "source": [
    "countplot(\"Income\")"
   ]
  },
  {
   "cell_type": "code",
   "execution_count": 15,
   "id": "ff923f89",
   "metadata": {},
   "outputs": [
    {
     "data": {
      "image/png": "[encoded data removed]",
      "text/plain": [
       "<Figure size 1440x360 with 1 Axes>"
      ]
     },
     "metadata": {
      "needs_background": "light"
     },
     "output_type": "display_data"
    },
    {
     "name": "stdout",
     "output_type": "stream",
     "text": [
      "From the above plot we observe : \n",
      "  HS-grad         10501\n",
      " Some-college     7291\n",
      " Bachelors        5354\n",
      " Masters          1723\n",
      " Assoc-voc        1382\n",
      " 11th             1175\n",
      " Assoc-acdm       1067\n",
      " 10th              933\n",
      " 7th-8th           646\n",
      " Prof-school       576\n",
      " 9th               514\n",
      " 12th              433\n",
      " Doctorate         413\n",
      " 5th-6th           333\n",
      " 1st-4th           168\n",
      " Preschool          51\n",
      "Name: Education, dtype: int64\n"
     ]
    }
   ],
   "source": [
    "countplot(\"Education\")"
   ]
  },
  {
   "cell_type": "code",
   "execution_count": 16,
   "id": "e85b07f3",
   "metadata": {},
   "outputs": [
    {
     "data": {
      "image/png": "[encoded data removed]",
      "text/plain": [
       "<Figure size 1440x360 with 1 Axes>"
      ]
     },
     "metadata": {
      "needs_background": "light"
     },
     "output_type": "display_data"
    },
    {
     "name": "stdout",
     "output_type": "stream",
     "text": [
      "From the above plot we observe : \n",
      " 9     10501\n",
      "10     7291\n",
      "13     5354\n",
      "14     1723\n",
      "11     1382\n",
      "7      1175\n",
      "12     1067\n",
      "6       933\n",
      "4       646\n",
      "15      576\n",
      "5       514\n",
      "8       433\n",
      "16      413\n",
      "3       333\n",
      "2       168\n",
      "1        51\n",
      "Name: Education_num, dtype: int64\n"
     ]
    }
   ],
   "source": [
    "countplot('Education_num')"
   ]
  },
  {
   "cell_type": "code",
   "execution_count": 17,
   "id": "e98aea96",
   "metadata": {},
   "outputs": [
    {
     "data": {
      "image/png": "[encoded data removed]",
      "text/plain": [
       "<Figure size 1440x360 with 1 Axes>"
      ]
     },
     "metadata": {
      "needs_background": "light"
     },
     "output_type": "display_data"
    },
    {
     "name": "stdout",
     "output_type": "stream",
     "text": [
      "From the above plot we observe : \n",
      "  Married-civ-spouse       14976\n",
      " Never-married            10682\n",
      " Divorced                  4443\n",
      " Separated                 1025\n",
      " Widowed                    993\n",
      " Married-spouse-absent      418\n",
      " Married-AF-spouse           23\n",
      "Name: Marital_status, dtype: int64\n"
     ]
    }
   ],
   "source": [
    "countplot('Marital_status')"
   ]
  },
  {
   "cell_type": "code",
   "execution_count": 18,
   "id": "1af1081f",
   "metadata": {},
   "outputs": [
    {
     "data": {
      "image/png": "[encoded data removed]",
      "text/plain": [
       "<Figure size 1440x360 with 1 Axes>"
      ]
     },
     "metadata": {
      "needs_background": "light"
     },
     "output_type": "display_data"
    },
    {
     "name": "stdout",
     "output_type": "stream",
     "text": [
      "From the above plot we observe : \n",
      "  Prof-specialty       4140\n",
      " Craft-repair         4099\n",
      " Exec-managerial      4066\n",
      " Adm-clerical         3769\n",
      " Sales                3650\n",
      " Other-service        3295\n",
      " Machine-op-inspct    2002\n",
      " ?                    1843\n",
      " Transport-moving     1597\n",
      " Handlers-cleaners    1370\n",
      " Farming-fishing       994\n",
      " Tech-support          928\n",
      " Protective-serv       649\n",
      " Priv-house-serv       149\n",
      " Armed-Forces            9\n",
      "Name: Occupation, dtype: int64\n"
     ]
    }
   ],
   "source": [
    "countplot('Occupation')"
   ]
  },
  {
   "cell_type": "code",
   "execution_count": 19,
   "id": "d3316de5",
   "metadata": {},
   "outputs": [
    {
     "data": {
      "image/png": "[encoded data removed]",
      "text/plain": [
       "<Figure size 1440x360 with 1 Axes>"
      ]
     },
     "metadata": {
      "needs_background": "light"
     },
     "output_type": "display_data"
    },
    {
     "name": "stdout",
     "output_type": "stream",
     "text": [
      "From the above plot we observe : \n",
      "  Husband           13193\n",
      " Not-in-family      8304\n",
      " Own-child          5068\n",
      " Unmarried          3446\n",
      " Wife               1568\n",
      " Other-relative      981\n",
      "Name: Relationship, dtype: int64\n"
     ]
    }
   ],
   "source": [
    "countplot('Relationship')"
   ]
  },
  {
   "cell_type": "code",
   "execution_count": 20,
   "id": "09be99cb",
   "metadata": {
    "scrolled": true
   },
   "outputs": [
    {
     "data": {
      "image/png": "[encoded data removed]",
      "text/plain": [
       "<Figure size 1440x360 with 1 Axes>"
      ]
     },
     "metadata": {
      "needs_background": "light"
     },
     "output_type": "display_data"
    },
    {
     "name": "stdout",
     "output_type": "stream",
     "text": [
      "From the above plot we observe : \n",
      "  White                 27815\n",
      " Black                  3124\n",
      " Asian-Pac-Islander     1039\n",
      " Amer-Indian-Eskimo      311\n",
      " Other                   271\n",
      "Name: Race, dtype: int64\n"
     ]
    }
   ],
   "source": [
    "countplot('Race')"
   ]
  },
  {
   "cell_type": "code",
   "execution_count": 21,
   "id": "631b4740",
   "metadata": {},
   "outputs": [
    {
     "data": {
      "image/png": "[encoded data removed]",
      "text/plain": [
       "<Figure size 1440x360 with 1 Axes>"
      ]
     },
     "metadata": {
      "needs_background": "light"
     },
     "output_type": "display_data"
    },
    {
     "name": "stdout",
     "output_type": "stream",
     "text": [
      "From the above plot we observe : \n",
      "  Male      21789\n",
      " Female    10771\n",
      "Name: Sex, dtype: int64\n"
     ]
    }
   ],
   "source": [
    "countplot('Sex')"
   ]
  },
  {
   "cell_type": "code",
   "execution_count": 22,
   "id": "e4eacd83",
   "metadata": {},
   "outputs": [
    {
     "data": {
      "image/png": "[encoded data removed]",
      "text/plain": [
       "<Figure size 1440x360 with 1 Axes>"
      ]
     },
     "metadata": {
      "needs_background": "light"
     },
     "output_type": "display_data"
    },
    {
     "name": "stdout",
     "output_type": "stream",
     "text": [
      "From the above plot we observe : \n",
      "  United-States                 29169\n",
      " Mexico                          643\n",
      " ?                               583\n",
      " Philippines                     198\n",
      " Germany                         137\n",
      " Canada                          121\n",
      " Puerto-Rico                     114\n",
      " El-Salvador                     106\n",
      " India                           100\n",
      " Cuba                             95\n",
      " England                          90\n",
      " Jamaica                          81\n",
      " South                            80\n",
      " China                            75\n",
      " Italy                            73\n",
      " Dominican-Republic               70\n",
      " Vietnam                          67\n",
      " Guatemala                        64\n",
      " Japan                            62\n",
      " Poland                           60\n",
      " Columbia                         59\n",
      " Taiwan                           51\n",
      " Haiti                            44\n",
      " Iran                             43\n",
      " Portugal                         37\n",
      " Nicaragua                        34\n",
      " Peru                             31\n",
      " France                           29\n",
      " Greece                           29\n",
      " Ecuador                          28\n",
      " Ireland                          24\n",
      " Hong                             20\n",
      " Cambodia                         19\n",
      " Trinadad&Tobago                  19\n",
      " Laos                             18\n",
      " Thailand                         18\n",
      " Yugoslavia                       16\n",
      " Outlying-US(Guam-USVI-etc)       14\n",
      " Honduras                         13\n",
      " Hungary                          13\n",
      " Scotland                         12\n",
      " Holand-Netherlands                1\n",
      "Name: Native_country, dtype: int64\n"
     ]
    }
   ],
   "source": [
    "countplot('Native_country')"
   ]
  },
  {
   "cell_type": "code",
   "execution_count": null,
   "id": "d51ca850",
   "metadata": {},
   "outputs": [],
   "source": []
  },
  {
   "cell_type": "code",
   "execution_count": 23,
   "id": "3996fd0a",
   "metadata": {},
   "outputs": [
    {
     "data": {
      "text/plain": [
       "Age                  0\n",
       "Workclass         1836\n",
       "Fnlwgt               0\n",
       "Education            0\n",
       "Education_num        0\n",
       "Marital_status       0\n",
       "Occupation        1843\n",
       "Relationship         0\n",
       "Race                 0\n",
       "Sex                  0\n",
       "Capital_gain         0\n",
       "Capital_loss         0\n",
       "Hours_per_week       0\n",
       "Native_country     583\n",
       "Income               0\n",
       "dtype: int64"
      ]
     },
     "execution_count": 23,
     "metadata": {},
     "output_type": "execute_result"
    }
   ],
   "source": [
    "#checking ? in dataset\n",
    "\n",
    "df.isin([\" ?\"]).sum()"
   ]
  },
  {
   "cell_type": "code",
   "execution_count": 24,
   "id": "2812d76a",
   "metadata": {},
   "outputs": [],
   "source": [
    "#replacing native country with United-States:\n",
    "\n",
    "df[\"Native_country\"] = df[\"Native_country\"].replace(\" ?\",' United-States')"
   ]
  },
  {
   "cell_type": "code",
   "execution_count": 25,
   "id": "30b145b5",
   "metadata": {},
   "outputs": [
    {
     "data": {
      "text/plain": [
       "array([' United-States', ' Cuba', ' Jamaica', ' India', ' Mexico',\n",
       "       ' South', ' Puerto-Rico', ' Honduras', ' England', ' Canada',\n",
       "       ' Germany', ' Iran', ' Philippines', ' Italy', ' Poland',\n",
       "       ' Columbia', ' Cambodia', ' Thailand', ' Ecuador', ' Laos',\n",
       "       ' Taiwan', ' Haiti', ' Portugal', ' Dominican-Republic',\n",
       "       ' El-Salvador', ' France', ' Guatemala', ' China', ' Japan',\n",
       "       ' Yugoslavia', ' Peru', ' Outlying-US(Guam-USVI-etc)', ' Scotland',\n",
       "       ' Trinadad&Tobago', ' Greece', ' Nicaragua', ' Vietnam', ' Hong',\n",
       "       ' Ireland', ' Hungary', ' Holand-Netherlands'], dtype=object)"
      ]
     },
     "execution_count": 25,
     "metadata": {},
     "output_type": "execute_result"
    }
   ],
   "source": [
    "df.Native_country.unique()"
   ]
  },
  {
   "cell_type": "code",
   "execution_count": 26,
   "id": "16233cee",
   "metadata": {},
   "outputs": [
    {
     "data": {
      "text/plain": [
       "array([' Self-emp-not-inc', ' Private', ' State-gov', ' Federal-gov',\n",
       "       ' Local-gov', ' ?', ' Self-emp-inc', ' Without-pay',\n",
       "       ' Never-worked'], dtype=object)"
      ]
     },
     "execution_count": 26,
     "metadata": {},
     "output_type": "execute_result"
    }
   ],
   "source": [
    "df.Workclass.unique()"
   ]
  },
  {
   "cell_type": "code",
   "execution_count": 27,
   "id": "e51eca09",
   "metadata": {},
   "outputs": [],
   "source": [
    "#using replace to categories data: \n",
    "\n",
    "df[\"Workclass\"]=df['Workclass'].replace([' Self-emp-not-inc', ' Private', ' State-gov', ' Federal-gov',\n",
    "       ' Local-gov', ' ?', ' Self-emp-inc', ' Without-pay',\n",
    "       ' Never-worked'],[0,1,2,3,4,None,5,6,7])"
   ]
  },
  {
   "cell_type": "code",
   "execution_count": null,
   "id": "68aed2c0",
   "metadata": {},
   "outputs": [],
   "source": []
  },
  {
   "cell_type": "code",
   "execution_count": 28,
   "id": "9e8979ec",
   "metadata": {},
   "outputs": [
    {
     "data": {
      "text/plain": [
       "array([' Exec-managerial', ' Handlers-cleaners', ' Prof-specialty',\n",
       "       ' Other-service', ' Adm-clerical', ' Sales', ' Craft-repair',\n",
       "       ' Transport-moving', ' Farming-fishing', ' Machine-op-inspct',\n",
       "       ' Tech-support', ' ?', ' Protective-serv', ' Armed-Forces',\n",
       "       ' Priv-house-serv'], dtype=object)"
      ]
     },
     "execution_count": 28,
     "metadata": {},
     "output_type": "execute_result"
    }
   ],
   "source": [
    "df.Occupation.unique()"
   ]
  },
  {
   "cell_type": "code",
   "execution_count": 29,
   "id": "0724a9d5",
   "metadata": {},
   "outputs": [],
   "source": [
    "\n",
    "#using replace to categories data\n",
    "df[\"Occupation\"]=df['Occupation'].replace([' Exec-managerial', ' Handlers-cleaners', ' Prof-specialty',\n",
    "       ' Other-service', ' Adm-clerical', ' Sales', ' Craft-repair',\n",
    "       ' Transport-moving', ' Farming-fishing', ' Machine-op-inspct',\n",
    "       ' Tech-support', ' ?', ' Protective-serv', ' Armed-Forces',\n",
    "       ' Priv-house-serv'],[1,2,3,4,5,6,7,8,9,10,11,None,13,14,15])"
   ]
  },
  {
   "cell_type": "code",
   "execution_count": 30,
   "id": "e86f95cf",
   "metadata": {},
   "outputs": [
    {
     "data": {
      "text/plain": [
       "Age               0\n",
       "Workclass         0\n",
       "Fnlwgt            0\n",
       "Education         0\n",
       "Education_num     0\n",
       "Marital_status    0\n",
       "Occupation        0\n",
       "Relationship      0\n",
       "Race              0\n",
       "Sex               0\n",
       "Capital_gain      0\n",
       "Capital_loss      0\n",
       "Hours_per_week    0\n",
       "Native_country    0\n",
       "Income            0\n",
       "dtype: int64"
      ]
     },
     "execution_count": 30,
     "metadata": {},
     "output_type": "execute_result"
    }
   ],
   "source": [
    "#checking again ' ?' in dataset\n",
    "\n",
    "df.isin([\" ?\"]).sum()"
   ]
  },
  {
   "cell_type": "code",
   "execution_count": 31,
   "id": "95494978",
   "metadata": {},
   "outputs": [
    {
     "data": {
      "text/plain": [
       "Age                  0\n",
       "Workclass         1836\n",
       "Fnlwgt               0\n",
       "Education            0\n",
       "Education_num        0\n",
       "Marital_status       0\n",
       "Occupation        1843\n",
       "Relationship         0\n",
       "Race                 0\n",
       "Sex                  0\n",
       "Capital_gain         0\n",
       "Capital_loss         0\n",
       "Hours_per_week       0\n",
       "Native_country       0\n",
       "Income               0\n",
       "dtype: int64"
      ]
     },
     "execution_count": 31,
     "metadata": {},
     "output_type": "execute_result"
    }
   ],
   "source": [
    "df.isna().sum()"
   ]
  },
  {
   "cell_type": "code",
   "execution_count": null,
   "id": "9c6ecb17",
   "metadata": {},
   "outputs": [],
   "source": []
  },
  {
   "cell_type": "code",
   "execution_count": 32,
   "id": "e6131ead",
   "metadata": {},
   "outputs": [],
   "source": [
    "# Checking the Distribution of continuous columns using Distplot:"
   ]
  },
  {
   "cell_type": "code",
   "execution_count": 33,
   "id": "36e7bb15",
   "metadata": {},
   "outputs": [
    {
     "data": {
      "text/plain": [
       "<AxesSubplot:xlabel='Capital_gain', ylabel='Density'>"
      ]
     },
     "execution_count": 33,
     "metadata": {},
     "output_type": "execute_result"
    },
    {
     "data": {
      "image/png": "[encoded data removed]",
      "text/plain": [
       "<Figure size 432x288 with 1 Axes>"
      ]
     },
     "metadata": {
      "needs_background": "light"
     },
     "output_type": "display_data"
    }
   ],
   "source": [
    "import warnings\n",
    "warnings.filterwarnings('ignore')\n",
    "\n",
    "sns.distplot(df[\"Capital_gain\"],color=\"red\")"
   ]
  },
  {
   "cell_type": "code",
   "execution_count": 34,
   "id": "6680bd99",
   "metadata": {},
   "outputs": [
    {
     "data": {
      "text/plain": [
       "<AxesSubplot:xlabel='Capital_loss', ylabel='Density'>"
      ]
     },
     "execution_count": 34,
     "metadata": {},
     "output_type": "execute_result"
    },
    {
     "data": {
      "image/png": "[encoded data removed]",
      "text/plain": [
       "<Figure size 432x288 with 1 Axes>"
      ]
     },
     "metadata": {
      "needs_background": "light"
     },
     "output_type": "display_data"
    }
   ],
   "source": [
    "sns.distplot(df[\"Capital_loss\"],color=\"red\")"
   ]
  },
  {
   "cell_type": "code",
   "execution_count": 35,
   "id": "9dc21d68",
   "metadata": {},
   "outputs": [
    {
     "data": {
      "text/plain": [
       "<AxesSubplot:xlabel='Fnlwgt', ylabel='Density'>"
      ]
     },
     "execution_count": 35,
     "metadata": {},
     "output_type": "execute_result"
    },
    {
     "data": {
      "image/png": "[encoded data removed]",
      "text/plain": [
       "<Figure size 432x288 with 1 Axes>"
      ]
     },
     "metadata": {
      "needs_background": "light"
     },
     "output_type": "display_data"
    }
   ],
   "source": [
    "sns.distplot(df[\"Fnlwgt\"],color=\"red\")"
   ]
  },
  {
   "cell_type": "code",
   "execution_count": 36,
   "id": "42f18984",
   "metadata": {},
   "outputs": [
    {
     "data": {
      "text/plain": [
       "<AxesSubplot:xlabel='Hours_per_week', ylabel='Density'>"
      ]
     },
     "execution_count": 36,
     "metadata": {},
     "output_type": "execute_result"
    },
    {
     "data": {
      "image/png": "[encoded data removed]",
      "text/plain": [
       "<Figure size 432x288 with 1 Axes>"
      ]
     },
     "metadata": {
      "needs_background": "light"
     },
     "output_type": "display_data"
    }
   ],
   "source": [
    "sns.distplot(df[\"Hours_per_week\"],color=\"red\")"
   ]
  },
  {
   "cell_type": "code",
   "execution_count": null,
   "id": "f8552311",
   "metadata": {},
   "outputs": [],
   "source": []
  },
  {
   "cell_type": "code",
   "execution_count": 37,
   "id": "bd9b3db0",
   "metadata": {},
   "outputs": [],
   "source": [
    "cat = [\"Relationship\",\"Education\",\"Marital_status\",\"Relationship\",\"Race\",\"Sex\",\"Native_country\",\"Income\"]"
   ]
  },
  {
   "cell_type": "code",
   "execution_count": 38,
   "id": "77ca14d3",
   "metadata": {},
   "outputs": [],
   "source": [
    "# for Encoding categorical columns :\n",
    "from sklearn.preprocessing import LabelEncoder"
   ]
  },
  {
   "cell_type": "code",
   "execution_count": 39,
   "id": "7e9fef08",
   "metadata": {},
   "outputs": [],
   "source": [
    "label=LabelEncoder()\n",
    "for i in df[cat]:\n",
    "    df[i]=label.fit_transform(df[i])"
   ]
  },
  {
   "cell_type": "code",
   "execution_count": 40,
   "id": "00e1360a",
   "metadata": {},
   "outputs": [
    {
     "data": {
      "text/html": [
       "<div>\n",
       "<style scoped>\n",
       "    .dataframe tbody tr th:only-of-type {\n",
       "        vertical-align: middle;\n",
       "    }\n",
       "\n",
       "    .dataframe tbody tr th {\n",
       "        vertical-align: top;\n",
       "    }\n",
       "\n",
       "    .dataframe thead th {\n",
       "        text-align: right;\n",
       "    }\n",
       "</style>\n",
       "<table border=\"1\" class=\"dataframe\">\n",
       "  <thead>\n",
       "    <tr style=\"text-align: right;\">\n",
       "      <th></th>\n",
       "      <th>Age</th>\n",
       "      <th>Workclass</th>\n",
       "      <th>Fnlwgt</th>\n",
       "      <th>Education</th>\n",
       "      <th>Education_num</th>\n",
       "      <th>Marital_status</th>\n",
       "      <th>Occupation</th>\n",
       "      <th>Relationship</th>\n",
       "      <th>Race</th>\n",
       "      <th>Sex</th>\n",
       "      <th>Capital_gain</th>\n",
       "      <th>Capital_loss</th>\n",
       "      <th>Hours_per_week</th>\n",
       "      <th>Native_country</th>\n",
       "      <th>Income</th>\n",
       "    </tr>\n",
       "  </thead>\n",
       "  <tbody>\n",
       "    <tr>\n",
       "      <th>0</th>\n",
       "      <td>50</td>\n",
       "      <td>0.0</td>\n",
       "      <td>83311</td>\n",
       "      <td>9</td>\n",
       "      <td>13</td>\n",
       "      <td>2</td>\n",
       "      <td>1.0</td>\n",
       "      <td>0</td>\n",
       "      <td>4</td>\n",
       "      <td>1</td>\n",
       "      <td>0</td>\n",
       "      <td>0</td>\n",
       "      <td>13</td>\n",
       "      <td>38</td>\n",
       "      <td>0</td>\n",
       "    </tr>\n",
       "    <tr>\n",
       "      <th>1</th>\n",
       "      <td>38</td>\n",
       "      <td>1.0</td>\n",
       "      <td>215646</td>\n",
       "      <td>11</td>\n",
       "      <td>9</td>\n",
       "      <td>0</td>\n",
       "      <td>2.0</td>\n",
       "      <td>1</td>\n",
       "      <td>4</td>\n",
       "      <td>1</td>\n",
       "      <td>0</td>\n",
       "      <td>0</td>\n",
       "      <td>40</td>\n",
       "      <td>38</td>\n",
       "      <td>0</td>\n",
       "    </tr>\n",
       "    <tr>\n",
       "      <th>2</th>\n",
       "      <td>53</td>\n",
       "      <td>1.0</td>\n",
       "      <td>234721</td>\n",
       "      <td>1</td>\n",
       "      <td>7</td>\n",
       "      <td>2</td>\n",
       "      <td>2.0</td>\n",
       "      <td>0</td>\n",
       "      <td>2</td>\n",
       "      <td>1</td>\n",
       "      <td>0</td>\n",
       "      <td>0</td>\n",
       "      <td>40</td>\n",
       "      <td>38</td>\n",
       "      <td>0</td>\n",
       "    </tr>\n",
       "    <tr>\n",
       "      <th>3</th>\n",
       "      <td>28</td>\n",
       "      <td>1.0</td>\n",
       "      <td>338409</td>\n",
       "      <td>9</td>\n",
       "      <td>13</td>\n",
       "      <td>2</td>\n",
       "      <td>3.0</td>\n",
       "      <td>5</td>\n",
       "      <td>2</td>\n",
       "      <td>0</td>\n",
       "      <td>0</td>\n",
       "      <td>0</td>\n",
       "      <td>40</td>\n",
       "      <td>4</td>\n",
       "      <td>0</td>\n",
       "    </tr>\n",
       "    <tr>\n",
       "      <th>4</th>\n",
       "      <td>37</td>\n",
       "      <td>1.0</td>\n",
       "      <td>284582</td>\n",
       "      <td>12</td>\n",
       "      <td>14</td>\n",
       "      <td>2</td>\n",
       "      <td>1.0</td>\n",
       "      <td>5</td>\n",
       "      <td>4</td>\n",
       "      <td>0</td>\n",
       "      <td>0</td>\n",
       "      <td>0</td>\n",
       "      <td>40</td>\n",
       "      <td>38</td>\n",
       "      <td>0</td>\n",
       "    </tr>\n",
       "    <tr>\n",
       "      <th>...</th>\n",
       "      <td>...</td>\n",
       "      <td>...</td>\n",
       "      <td>...</td>\n",
       "      <td>...</td>\n",
       "      <td>...</td>\n",
       "      <td>...</td>\n",
       "      <td>...</td>\n",
       "      <td>...</td>\n",
       "      <td>...</td>\n",
       "      <td>...</td>\n",
       "      <td>...</td>\n",
       "      <td>...</td>\n",
       "      <td>...</td>\n",
       "      <td>...</td>\n",
       "      <td>...</td>\n",
       "    </tr>\n",
       "    <tr>\n",
       "      <th>32555</th>\n",
       "      <td>27</td>\n",
       "      <td>1.0</td>\n",
       "      <td>257302</td>\n",
       "      <td>7</td>\n",
       "      <td>12</td>\n",
       "      <td>2</td>\n",
       "      <td>11.0</td>\n",
       "      <td>5</td>\n",
       "      <td>4</td>\n",
       "      <td>0</td>\n",
       "      <td>0</td>\n",
       "      <td>0</td>\n",
       "      <td>38</td>\n",
       "      <td>38</td>\n",
       "      <td>0</td>\n",
       "    </tr>\n",
       "    <tr>\n",
       "      <th>32556</th>\n",
       "      <td>40</td>\n",
       "      <td>1.0</td>\n",
       "      <td>154374</td>\n",
       "      <td>11</td>\n",
       "      <td>9</td>\n",
       "      <td>2</td>\n",
       "      <td>10.0</td>\n",
       "      <td>0</td>\n",
       "      <td>4</td>\n",
       "      <td>1</td>\n",
       "      <td>0</td>\n",
       "      <td>0</td>\n",
       "      <td>40</td>\n",
       "      <td>38</td>\n",
       "      <td>1</td>\n",
       "    </tr>\n",
       "    <tr>\n",
       "      <th>32557</th>\n",
       "      <td>58</td>\n",
       "      <td>1.0</td>\n",
       "      <td>151910</td>\n",
       "      <td>11</td>\n",
       "      <td>9</td>\n",
       "      <td>6</td>\n",
       "      <td>5.0</td>\n",
       "      <td>4</td>\n",
       "      <td>4</td>\n",
       "      <td>0</td>\n",
       "      <td>0</td>\n",
       "      <td>0</td>\n",
       "      <td>40</td>\n",
       "      <td>38</td>\n",
       "      <td>0</td>\n",
       "    </tr>\n",
       "    <tr>\n",
       "      <th>32558</th>\n",
       "      <td>22</td>\n",
       "      <td>1.0</td>\n",
       "      <td>201490</td>\n",
       "      <td>11</td>\n",
       "      <td>9</td>\n",
       "      <td>4</td>\n",
       "      <td>5.0</td>\n",
       "      <td>3</td>\n",
       "      <td>4</td>\n",
       "      <td>1</td>\n",
       "      <td>0</td>\n",
       "      <td>0</td>\n",
       "      <td>20</td>\n",
       "      <td>38</td>\n",
       "      <td>0</td>\n",
       "    </tr>\n",
       "    <tr>\n",
       "      <th>32559</th>\n",
       "      <td>52</td>\n",
       "      <td>5.0</td>\n",
       "      <td>287927</td>\n",
       "      <td>11</td>\n",
       "      <td>9</td>\n",
       "      <td>2</td>\n",
       "      <td>1.0</td>\n",
       "      <td>5</td>\n",
       "      <td>4</td>\n",
       "      <td>0</td>\n",
       "      <td>15024</td>\n",
       "      <td>0</td>\n",
       "      <td>40</td>\n",
       "      <td>38</td>\n",
       "      <td>1</td>\n",
       "    </tr>\n",
       "  </tbody>\n",
       "</table>\n",
       "<p>32560 rows × 15 columns</p>\n",
       "</div>"
      ],
      "text/plain": [
       "       Age  Workclass  Fnlwgt  Education  Education_num  Marital_status  \\\n",
       "0       50        0.0   83311          9             13               2   \n",
       "1       38        1.0  215646         11              9               0   \n",
       "2       53        1.0  234721          1              7               2   \n",
       "3       28        1.0  338409          9             13               2   \n",
       "4       37        1.0  284582         12             14               2   \n",
       "...    ...        ...     ...        ...            ...             ...   \n",
       "32555   27        1.0  257302          7             12               2   \n",
       "32556   40        1.0  154374         11              9               2   \n",
       "32557   58        1.0  151910         11              9               6   \n",
       "32558   22        1.0  201490         11              9               4   \n",
       "32559   52        5.0  287927         11              9               2   \n",
       "\n",
       "       Occupation  Relationship  Race  Sex  Capital_gain  Capital_loss  \\\n",
       "0             1.0             0     4    1             0             0   \n",
       "1             2.0             1     4    1             0             0   \n",
       "2             2.0             0     2    1             0             0   \n",
       "3             3.0             5     2    0             0             0   \n",
       "4             1.0             5     4    0             0             0   \n",
       "...           ...           ...   ...  ...           ...           ...   \n",
       "32555        11.0             5     4    0             0             0   \n",
       "32556        10.0             0     4    1             0             0   \n",
       "32557         5.0             4     4    0             0             0   \n",
       "32558         5.0             3     4    1             0             0   \n",
       "32559         1.0             5     4    0         15024             0   \n",
       "\n",
       "       Hours_per_week  Native_country  Income  \n",
       "0                  13              38       0  \n",
       "1                  40              38       0  \n",
       "2                  40              38       0  \n",
       "3                  40               4       0  \n",
       "4                  40              38       0  \n",
       "...               ...             ...     ...  \n",
       "32555              38              38       0  \n",
       "32556              40              38       1  \n",
       "32557              40              38       0  \n",
       "32558              20              38       0  \n",
       "32559              40              38       1  \n",
       "\n",
       "[32560 rows x 15 columns]"
      ]
     },
     "execution_count": 40,
     "metadata": {},
     "output_type": "execute_result"
    }
   ],
   "source": [
    "df"
   ]
  },
  {
   "cell_type": "code",
   "execution_count": null,
   "id": "a9023f8b",
   "metadata": {},
   "outputs": [],
   "source": []
  },
  {
   "cell_type": "markdown",
   "id": "520e0f80",
   "metadata": {},
   "source": [
    "## Bivariate Analysis :"
   ]
  },
  {
   "cell_type": "code",
   "execution_count": 41,
   "id": "ae177f78",
   "metadata": {},
   "outputs": [
    {
     "data": {
      "image/png": "[encoded data removed]",
      "text/plain": [
       "<Figure size 1080x1800 with 14 Axes>"
      ]
     },
     "metadata": {
      "needs_background": "light"
     },
     "output_type": "display_data"
    }
   ],
   "source": [
    "plt.figure(figsize=(15,25))\n",
    "plotnumber = 1\n",
    "for i in df:\n",
    "    if plotnumber < 15:\n",
    "        ax = plt.subplot(7,2,plotnumber)\n",
    "        sns.stripplot(df[\"Income\"],df[i])\n",
    "        plotnumber+=1\n",
    "plt.show()"
   ]
  },
  {
   "cell_type": "code",
   "execution_count": null,
   "id": "07477f9e",
   "metadata": {},
   "outputs": [],
   "source": []
  },
  {
   "cell_type": "markdown",
   "id": "8696cb69",
   "metadata": {},
   "source": [
    "### Multivariate analysis :"
   ]
  },
  {
   "cell_type": "code",
   "execution_count": 42,
   "id": "131e7659",
   "metadata": {},
   "outputs": [
    {
     "data": {
      "text/html": [
       "<div>\n",
       "<style scoped>\n",
       "    .dataframe tbody tr th:only-of-type {\n",
       "        vertical-align: middle;\n",
       "    }\n",
       "\n",
       "    .dataframe tbody tr th {\n",
       "        vertical-align: top;\n",
       "    }\n",
       "\n",
       "    .dataframe thead th {\n",
       "        text-align: right;\n",
       "    }\n",
       "</style>\n",
       "<table border=\"1\" class=\"dataframe\">\n",
       "  <thead>\n",
       "    <tr style=\"text-align: right;\">\n",
       "      <th></th>\n",
       "      <th>Age</th>\n",
       "      <th>Workclass</th>\n",
       "      <th>Fnlwgt</th>\n",
       "      <th>Education</th>\n",
       "      <th>Education_num</th>\n",
       "      <th>Marital_status</th>\n",
       "      <th>Occupation</th>\n",
       "      <th>Relationship</th>\n",
       "      <th>Race</th>\n",
       "      <th>Sex</th>\n",
       "      <th>Capital_gain</th>\n",
       "      <th>Capital_loss</th>\n",
       "      <th>Hours_per_week</th>\n",
       "      <th>Native_country</th>\n",
       "      <th>Income</th>\n",
       "    </tr>\n",
       "  </thead>\n",
       "  <tbody>\n",
       "    <tr>\n",
       "      <th>Age</th>\n",
       "      <td>1.000000</td>\n",
       "      <td>0.101792</td>\n",
       "      <td>-0.076646</td>\n",
       "      <td>-0.010508</td>\n",
       "      <td>0.036527</td>\n",
       "      <td>-0.266292</td>\n",
       "      <td>-0.023275</td>\n",
       "      <td>-0.263698</td>\n",
       "      <td>0.028718</td>\n",
       "      <td>0.088832</td>\n",
       "      <td>0.077674</td>\n",
       "      <td>0.057775</td>\n",
       "      <td>0.068756</td>\n",
       "      <td>-0.000271</td>\n",
       "      <td>0.234039</td>\n",
       "    </tr>\n",
       "    <tr>\n",
       "      <th>Workclass</th>\n",
       "      <td>0.101792</td>\n",
       "      <td>1.000000</td>\n",
       "      <td>-0.013195</td>\n",
       "      <td>0.045661</td>\n",
       "      <td>0.143878</td>\n",
       "      <td>-0.044541</td>\n",
       "      <td>-0.067691</td>\n",
       "      <td>-0.020985</td>\n",
       "      <td>-0.024335</td>\n",
       "      <td>-0.004503</td>\n",
       "      <td>0.046395</td>\n",
       "      <td>0.026829</td>\n",
       "      <td>0.056136</td>\n",
       "      <td>0.026514</td>\n",
       "      <td>0.120336</td>\n",
       "    </tr>\n",
       "    <tr>\n",
       "      <th>Fnlwgt</th>\n",
       "      <td>-0.076646</td>\n",
       "      <td>-0.013195</td>\n",
       "      <td>1.000000</td>\n",
       "      <td>-0.028156</td>\n",
       "      <td>-0.043159</td>\n",
       "      <td>0.028184</td>\n",
       "      <td>0.016629</td>\n",
       "      <td>0.008922</td>\n",
       "      <td>-0.021278</td>\n",
       "      <td>0.026882</td>\n",
       "      <td>0.000437</td>\n",
       "      <td>-0.010259</td>\n",
       "      <td>-0.018770</td>\n",
       "      <td>-0.063279</td>\n",
       "      <td>-0.009481</td>\n",
       "    </tr>\n",
       "    <tr>\n",
       "      <th>Education</th>\n",
       "      <td>-0.010508</td>\n",
       "      <td>0.045661</td>\n",
       "      <td>-0.028156</td>\n",
       "      <td>1.000000</td>\n",
       "      <td>0.359172</td>\n",
       "      <td>-0.038398</td>\n",
       "      <td>-0.053807</td>\n",
       "      <td>-0.010879</td>\n",
       "      <td>0.014135</td>\n",
       "      <td>-0.027349</td>\n",
       "      <td>0.030047</td>\n",
       "      <td>0.016744</td>\n",
       "      <td>0.055510</td>\n",
       "      <td>0.076062</td>\n",
       "      <td>0.079311</td>\n",
       "    </tr>\n",
       "    <tr>\n",
       "      <th>Education_num</th>\n",
       "      <td>0.036527</td>\n",
       "      <td>0.143878</td>\n",
       "      <td>-0.043159</td>\n",
       "      <td>0.359172</td>\n",
       "      <td>1.000000</td>\n",
       "      <td>-0.069338</td>\n",
       "      <td>-0.288688</td>\n",
       "      <td>-0.094145</td>\n",
       "      <td>0.031825</td>\n",
       "      <td>0.012256</td>\n",
       "      <td>0.122627</td>\n",
       "      <td>0.079932</td>\n",
       "      <td>0.148127</td>\n",
       "      <td>0.088887</td>\n",
       "      <td>0.335182</td>\n",
       "    </tr>\n",
       "    <tr>\n",
       "      <th>Marital_status</th>\n",
       "      <td>-0.266292</td>\n",
       "      <td>-0.044541</td>\n",
       "      <td>0.028184</td>\n",
       "      <td>-0.038398</td>\n",
       "      <td>-0.069338</td>\n",
       "      <td>1.000000</td>\n",
       "      <td>-0.003464</td>\n",
       "      <td>0.185461</td>\n",
       "      <td>-0.068025</td>\n",
       "      <td>-0.129337</td>\n",
       "      <td>-0.043398</td>\n",
       "      <td>-0.034182</td>\n",
       "      <td>-0.190521</td>\n",
       "      <td>-0.021285</td>\n",
       "      <td>-0.199295</td>\n",
       "    </tr>\n",
       "    <tr>\n",
       "      <th>Occupation</th>\n",
       "      <td>-0.023275</td>\n",
       "      <td>-0.067691</td>\n",
       "      <td>0.016629</td>\n",
       "      <td>-0.053807</td>\n",
       "      <td>-0.288688</td>\n",
       "      <td>-0.003464</td>\n",
       "      <td>1.000000</td>\n",
       "      <td>-0.053830</td>\n",
       "      <td>-0.010541</td>\n",
       "      <td>0.101209</td>\n",
       "      <td>-0.067473</td>\n",
       "      <td>-0.035079</td>\n",
       "      <td>-0.004318</td>\n",
       "      <td>-0.016474</td>\n",
       "      <td>-0.143785</td>\n",
       "    </tr>\n",
       "    <tr>\n",
       "      <th>Relationship</th>\n",
       "      <td>-0.263698</td>\n",
       "      <td>-0.020985</td>\n",
       "      <td>0.008922</td>\n",
       "      <td>-0.010879</td>\n",
       "      <td>-0.094145</td>\n",
       "      <td>0.185461</td>\n",
       "      <td>-0.053830</td>\n",
       "      <td>1.000000</td>\n",
       "      <td>-0.116052</td>\n",
       "      <td>-0.582453</td>\n",
       "      <td>-0.057918</td>\n",
       "      <td>-0.061064</td>\n",
       "      <td>-0.248975</td>\n",
       "      <td>-0.010710</td>\n",
       "      <td>-0.250924</td>\n",
       "    </tr>\n",
       "    <tr>\n",
       "      <th>Race</th>\n",
       "      <td>0.028718</td>\n",
       "      <td>-0.024335</td>\n",
       "      <td>-0.021278</td>\n",
       "      <td>0.014135</td>\n",
       "      <td>0.031825</td>\n",
       "      <td>-0.068025</td>\n",
       "      <td>-0.010541</td>\n",
       "      <td>-0.116052</td>\n",
       "      <td>1.000000</td>\n",
       "      <td>0.087197</td>\n",
       "      <td>0.011143</td>\n",
       "      <td>0.018902</td>\n",
       "      <td>0.041910</td>\n",
       "      <td>0.116526</td>\n",
       "      <td>0.071853</td>\n",
       "    </tr>\n",
       "    <tr>\n",
       "      <th>Sex</th>\n",
       "      <td>0.088832</td>\n",
       "      <td>-0.004503</td>\n",
       "      <td>0.026882</td>\n",
       "      <td>-0.027349</td>\n",
       "      <td>0.012256</td>\n",
       "      <td>-0.129337</td>\n",
       "      <td>0.101209</td>\n",
       "      <td>-0.582453</td>\n",
       "      <td>0.087197</td>\n",
       "      <td>1.000000</td>\n",
       "      <td>0.048477</td>\n",
       "      <td>0.045572</td>\n",
       "      <td>0.229312</td>\n",
       "      <td>0.002055</td>\n",
       "      <td>0.215995</td>\n",
       "    </tr>\n",
       "    <tr>\n",
       "      <th>Capital_gain</th>\n",
       "      <td>0.077674</td>\n",
       "      <td>0.046395</td>\n",
       "      <td>0.000437</td>\n",
       "      <td>0.030047</td>\n",
       "      <td>0.122627</td>\n",
       "      <td>-0.043398</td>\n",
       "      <td>-0.067473</td>\n",
       "      <td>-0.057918</td>\n",
       "      <td>0.011143</td>\n",
       "      <td>0.048477</td>\n",
       "      <td>1.000000</td>\n",
       "      <td>-0.031614</td>\n",
       "      <td>0.078409</td>\n",
       "      <td>0.008818</td>\n",
       "      <td>0.223333</td>\n",
       "    </tr>\n",
       "    <tr>\n",
       "      <th>Capital_loss</th>\n",
       "      <td>0.057775</td>\n",
       "      <td>0.026829</td>\n",
       "      <td>-0.010259</td>\n",
       "      <td>0.016744</td>\n",
       "      <td>0.079932</td>\n",
       "      <td>-0.034182</td>\n",
       "      <td>-0.035079</td>\n",
       "      <td>-0.061064</td>\n",
       "      <td>0.018902</td>\n",
       "      <td>0.045572</td>\n",
       "      <td>-0.031614</td>\n",
       "      <td>1.000000</td>\n",
       "      <td>0.054256</td>\n",
       "      <td>0.009402</td>\n",
       "      <td>0.150523</td>\n",
       "    </tr>\n",
       "    <tr>\n",
       "      <th>Hours_per_week</th>\n",
       "      <td>0.068756</td>\n",
       "      <td>0.056136</td>\n",
       "      <td>-0.018770</td>\n",
       "      <td>0.055510</td>\n",
       "      <td>0.148127</td>\n",
       "      <td>-0.190521</td>\n",
       "      <td>-0.004318</td>\n",
       "      <td>-0.248975</td>\n",
       "      <td>0.041910</td>\n",
       "      <td>0.229312</td>\n",
       "      <td>0.078409</td>\n",
       "      <td>0.054256</td>\n",
       "      <td>1.000000</td>\n",
       "      <td>0.006592</td>\n",
       "      <td>0.229690</td>\n",
       "    </tr>\n",
       "    <tr>\n",
       "      <th>Native_country</th>\n",
       "      <td>-0.000271</td>\n",
       "      <td>0.026514</td>\n",
       "      <td>-0.063279</td>\n",
       "      <td>0.076062</td>\n",
       "      <td>0.088887</td>\n",
       "      <td>-0.021285</td>\n",
       "      <td>-0.016474</td>\n",
       "      <td>-0.010710</td>\n",
       "      <td>0.116526</td>\n",
       "      <td>0.002055</td>\n",
       "      <td>0.008818</td>\n",
       "      <td>0.009402</td>\n",
       "      <td>0.006592</td>\n",
       "      <td>1.000000</td>\n",
       "      <td>0.023063</td>\n",
       "    </tr>\n",
       "    <tr>\n",
       "      <th>Income</th>\n",
       "      <td>0.234039</td>\n",
       "      <td>0.120336</td>\n",
       "      <td>-0.009481</td>\n",
       "      <td>0.079311</td>\n",
       "      <td>0.335182</td>\n",
       "      <td>-0.199295</td>\n",
       "      <td>-0.143785</td>\n",
       "      <td>-0.250924</td>\n",
       "      <td>0.071853</td>\n",
       "      <td>0.215995</td>\n",
       "      <td>0.223333</td>\n",
       "      <td>0.150523</td>\n",
       "      <td>0.229690</td>\n",
       "      <td>0.023063</td>\n",
       "      <td>1.000000</td>\n",
       "    </tr>\n",
       "  </tbody>\n",
       "</table>\n",
       "</div>"
      ],
      "text/plain": [
       "                     Age  Workclass    Fnlwgt  Education  Education_num  \\\n",
       "Age             1.000000   0.101792 -0.076646  -0.010508       0.036527   \n",
       "Workclass       0.101792   1.000000 -0.013195   0.045661       0.143878   \n",
       "Fnlwgt         -0.076646  -0.013195  1.000000  -0.028156      -0.043159   \n",
       "Education      -0.010508   0.045661 -0.028156   1.000000       0.359172   \n",
       "Education_num   0.036527   0.143878 -0.043159   0.359172       1.000000   \n",
       "Marital_status -0.266292  -0.044541  0.028184  -0.038398      -0.069338   \n",
       "Occupation     -0.023275  -0.067691  0.016629  -0.053807      -0.288688   \n",
       "Relationship   -0.263698  -0.020985  0.008922  -0.010879      -0.094145   \n",
       "Race            0.028718  -0.024335 -0.021278   0.014135       0.031825   \n",
       "Sex             0.088832  -0.004503  0.026882  -0.027349       0.012256   \n",
       "Capital_gain    0.077674   0.046395  0.000437   0.030047       0.122627   \n",
       "Capital_loss    0.057775   0.026829 -0.010259   0.016744       0.079932   \n",
       "Hours_per_week  0.068756   0.056136 -0.018770   0.055510       0.148127   \n",
       "Native_country -0.000271   0.026514 -0.063279   0.076062       0.088887   \n",
       "Income          0.234039   0.120336 -0.009481   0.079311       0.335182   \n",
       "\n",
       "                Marital_status  Occupation  Relationship      Race       Sex  \\\n",
       "Age                  -0.266292   -0.023275     -0.263698  0.028718  0.088832   \n",
       "Workclass            -0.044541   -0.067691     -0.020985 -0.024335 -0.004503   \n",
       "Fnlwgt                0.028184    0.016629      0.008922 -0.021278  0.026882   \n",
       "Education            -0.038398   -0.053807     -0.010879  0.014135 -0.027349   \n",
       "Education_num        -0.069338   -0.288688     -0.094145  0.031825  0.012256   \n",
       "Marital_status        1.000000   -0.003464      0.185461 -0.068025 -0.129337   \n",
       "Occupation           -0.003464    1.000000     -0.053830 -0.010541  0.101209   \n",
       "Relationship          0.185461   -0.053830      1.000000 -0.116052 -0.582453   \n",
       "Race                 -0.068025   -0.010541     -0.116052  1.000000  0.087197   \n",
       "Sex                  -0.129337    0.101209     -0.582453  0.087197  1.000000   \n",
       "Capital_gain         -0.043398   -0.067473     -0.057918  0.011143  0.048477   \n",
       "Capital_loss         -0.034182   -0.035079     -0.061064  0.018902  0.045572   \n",
       "Hours_per_week       -0.190521   -0.004318     -0.248975  0.041910  0.229312   \n",
       "Native_country       -0.021285   -0.016474     -0.010710  0.116526  0.002055   \n",
       "Income               -0.199295   -0.143785     -0.250924  0.071853  0.215995   \n",
       "\n",
       "                Capital_gain  Capital_loss  Hours_per_week  Native_country  \\\n",
       "Age                 0.077674      0.057775        0.068756       -0.000271   \n",
       "Workclass           0.046395      0.026829        0.056136        0.026514   \n",
       "Fnlwgt              0.000437     -0.010259       -0.018770       -0.063279   \n",
       "Education           0.030047      0.016744        0.055510        0.076062   \n",
       "Education_num       0.122627      0.079932        0.148127        0.088887   \n",
       "Marital_status     -0.043398     -0.034182       -0.190521       -0.021285   \n",
       "Occupation         -0.067473     -0.035079       -0.004318       -0.016474   \n",
       "Relationship       -0.057918     -0.061064       -0.248975       -0.010710   \n",
       "Race                0.011143      0.018902        0.041910        0.116526   \n",
       "Sex                 0.048477      0.045572        0.229312        0.002055   \n",
       "Capital_gain        1.000000     -0.031614        0.078409        0.008818   \n",
       "Capital_loss       -0.031614      1.000000        0.054256        0.009402   \n",
       "Hours_per_week      0.078409      0.054256        1.000000        0.006592   \n",
       "Native_country      0.008818      0.009402        0.006592        1.000000   \n",
       "Income              0.223333      0.150523        0.229690        0.023063   \n",
       "\n",
       "                  Income  \n",
       "Age             0.234039  \n",
       "Workclass       0.120336  \n",
       "Fnlwgt         -0.009481  \n",
       "Education       0.079311  \n",
       "Education_num   0.335182  \n",
       "Marital_status -0.199295  \n",
       "Occupation     -0.143785  \n",
       "Relationship   -0.250924  \n",
       "Race            0.071853  \n",
       "Sex             0.215995  \n",
       "Capital_gain    0.223333  \n",
       "Capital_loss    0.150523  \n",
       "Hours_per_week  0.229690  \n",
       "Native_country  0.023063  \n",
       "Income          1.000000  "
      ]
     },
     "execution_count": 42,
     "metadata": {},
     "output_type": "execute_result"
    }
   ],
   "source": [
    "df.corr()"
   ]
  },
  {
   "cell_type": "code",
   "execution_count": 43,
   "id": "7c53cff6",
   "metadata": {},
   "outputs": [
    {
     "data": {
      "text/plain": [
       "<function matplotlib.pyplot.show(close=None, block=None)>"
      ]
     },
     "execution_count": 43,
     "metadata": {},
     "output_type": "execute_result"
    },
    {
     "data": {
      "image/png": "[encoded data removed]",
      "text/plain": [
       "<Figure size 1584x1152 with 2 Axes>"
      ]
     },
     "metadata": {
      "needs_background": "light"
     },
     "output_type": "display_data"
    }
   ],
   "source": [
    "# Multivariate visualization: \n",
    "\n",
    "df_corr=df.corr().abs()\n",
    "plt.figure(figsize=(22,16))\n",
    "sns.heatmap(df_corr,vmin=-1,vmax=1,annot=True,center=0,fmt=\".2g\",linewidths=.2)\n",
    "plt.show"
   ]
  },
  {
   "cell_type": "code",
   "execution_count": 44,
   "id": "09a76c1a",
   "metadata": {},
   "outputs": [
    {
     "data": {
      "text/plain": [
       "Age                 int64\n",
       "Workclass         float64\n",
       "Fnlwgt              int64\n",
       "Education           int32\n",
       "Education_num       int64\n",
       "Marital_status      int32\n",
       "Occupation        float64\n",
       "Relationship        int64\n",
       "Race                int32\n",
       "Sex                 int32\n",
       "Capital_gain        int64\n",
       "Capital_loss        int64\n",
       "Hours_per_week      int64\n",
       "Native_country      int32\n",
       "Income              int32\n",
       "dtype: object"
      ]
     },
     "execution_count": 44,
     "metadata": {},
     "output_type": "execute_result"
    }
   ],
   "source": [
    "df.dtypes"
   ]
  },
  {
   "cell_type": "code",
   "execution_count": null,
   "id": "60b81ffc",
   "metadata": {},
   "outputs": [],
   "source": []
  },
  {
   "cell_type": "code",
   "execution_count": 45,
   "id": "2e56aad7",
   "metadata": {},
   "outputs": [],
   "source": [
    "# Droping tha NaN\n",
    "df1 = pd.DataFrame(df)\n",
    "df1.dropna(inplace=True)"
   ]
  },
  {
   "cell_type": "code",
   "execution_count": 46,
   "id": "0d1eace1",
   "metadata": {},
   "outputs": [
    {
     "data": {
      "text/plain": [
       "Age               0\n",
       "Workclass         0\n",
       "Fnlwgt            0\n",
       "Education         0\n",
       "Education_num     0\n",
       "Marital_status    0\n",
       "Occupation        0\n",
       "Relationship      0\n",
       "Race              0\n",
       "Sex               0\n",
       "Capital_gain      0\n",
       "Capital_loss      0\n",
       "Hours_per_week    0\n",
       "Native_country    0\n",
       "Income            0\n",
       "dtype: int64"
      ]
     },
     "execution_count": 46,
     "metadata": {},
     "output_type": "execute_result"
    }
   ],
   "source": [
    "df1.isna().sum()"
   ]
  },
  {
   "cell_type": "code",
   "execution_count": null,
   "id": "28ebf106",
   "metadata": {},
   "outputs": [],
   "source": []
  },
  {
   "cell_type": "markdown",
   "id": "79a84950",
   "metadata": {},
   "source": [
    "### Outlier Detection"
   ]
  },
  {
   "cell_type": "code",
   "execution_count": 47,
   "id": "4abc0191",
   "metadata": {},
   "outputs": [
    {
     "data": {
      "image/png": "[encoded data removed]",
      "text/plain": [
       "<Figure size 1800x1440 with 15 Axes>"
      ]
     },
     "metadata": {
      "needs_background": "light"
     },
     "output_type": "display_data"
    }
   ],
   "source": [
    "#using box plot to see outliers in the dataset:\n",
    "\n",
    "plt.figure(figsize=(25,20))\n",
    "plotnumber = 1\n",
    "for x in df1:\n",
    "    if plotnumber<=15:\n",
    "        ax=plt.subplot(5,3,plotnumber)\n",
    "        sns.boxplot(df1[x])\n",
    "    plotnumber+=1\n",
    "plt.show()"
   ]
  },
  {
   "cell_type": "code",
   "execution_count": 48,
   "id": "66772e4d",
   "metadata": {},
   "outputs": [],
   "source": [
    "#for outliers removal:\n",
    "\n",
    "from scipy.stats import zscore"
   ]
  },
  {
   "cell_type": "code",
   "execution_count": 49,
   "id": "2115d287",
   "metadata": {},
   "outputs": [
    {
     "data": {
      "text/plain": [
       "Index(['Age', 'Workclass', 'Fnlwgt', 'Education', 'Education_num',\n",
       "       'Marital_status', 'Occupation', 'Relationship', 'Race', 'Sex',\n",
       "       'Capital_gain', 'Capital_loss', 'Hours_per_week', 'Native_country',\n",
       "       'Income'],\n",
       "      dtype='object')"
      ]
     },
     "execution_count": 49,
     "metadata": {},
     "output_type": "execute_result"
    }
   ],
   "source": [
    "df1.columns"
   ]
  },
  {
   "cell_type": "code",
   "execution_count": 50,
   "id": "d72f5a1e",
   "metadata": {},
   "outputs": [],
   "source": [
    "z_score =zscore(df1[[\"Fnlwgt\",\"Capital_loss\",\"Capital_gain\", \"Age\"]])\n",
    "abs_z_score = np.abs(z_score)"
   ]
  },
  {
   "cell_type": "code",
   "execution_count": 51,
   "id": "03cf34a9",
   "metadata": {},
   "outputs": [],
   "source": [
    "filter = (abs_z_score < 3).all(axis=1)\n",
    "new_df = df1[filter]"
   ]
  },
  {
   "cell_type": "code",
   "execution_count": 52,
   "id": "347de0d8",
   "metadata": {},
   "outputs": [
    {
     "data": {
      "text/plain": [
       "(28663, 15)"
      ]
     },
     "execution_count": 52,
     "metadata": {},
     "output_type": "execute_result"
    }
   ],
   "source": [
    "new_df.shape"
   ]
  },
  {
   "cell_type": "code",
   "execution_count": 53,
   "id": "d90a3c46",
   "metadata": {},
   "outputs": [
    {
     "name": "stdout",
     "output_type": "stream",
     "text": [
      " Data loss is :  11.968673218673219\n"
     ]
    }
   ],
   "source": [
    "print(\" Data loss is : \",((df.shape[0]-new_df.shape[0])/df.shape[0])*100)"
   ]
  },
  {
   "cell_type": "markdown",
   "id": "7183b07b",
   "metadata": {},
   "source": [
    "#### * Since the dataset is large we can afford to loose 11 % of the data."
   ]
  },
  {
   "cell_type": "markdown",
   "id": "a2caef56",
   "metadata": {},
   "source": [
    "### Skewness"
   ]
  },
  {
   "cell_type": "code",
   "execution_count": null,
   "id": "d259c2d1",
   "metadata": {},
   "outputs": [],
   "source": []
  },
  {
   "cell_type": "code",
   "execution_count": 54,
   "id": "32ddda36",
   "metadata": {},
   "outputs": [
    {
     "data": {
      "image/png": "[encoded data removed]",
      "text/plain": [
       "<Figure size 1800x1440 with 15 Axes>"
      ]
     },
     "metadata": {
      "needs_background": "light"
     },
     "output_type": "display_data"
    }
   ],
   "source": [
    "# Checking the skewness using Distplot:\n",
    "plt.figure(figsize=(25,20))\n",
    "plotnumber = 1\n",
    "for column in df1:\n",
    "    if plotnumber<=15:\n",
    "        ax=plt.subplot(5,3,plotnumber)\n",
    "        sns.distplot(df[column])\n",
    "    plotnumber+=1\n",
    "plt.show()"
   ]
  },
  {
   "cell_type": "code",
   "execution_count": 55,
   "id": "48ec1965",
   "metadata": {},
   "outputs": [
    {
     "data": {
      "text/plain": [
       "Age                0.448040\n",
       "Workclass          1.953348\n",
       "Fnlwgt             0.627599\n",
       "Education         -0.936467\n",
       "Education_num     -0.317923\n",
       "Marital_status    -0.039426\n",
       "Occupation         0.506542\n",
       "Relationship       0.786179\n",
       "Race              -2.455257\n",
       "Sex               -0.723080\n",
       "Capital_gain       4.874236\n",
       "Capital_loss      29.549581\n",
       "Hours_per_week     0.339187\n",
       "Native_country    -4.215930\n",
       "Income             1.281715\n",
       "dtype: float64"
      ]
     },
     "execution_count": 55,
     "metadata": {},
     "output_type": "execute_result"
    }
   ],
   "source": [
    "new_df.skew()"
   ]
  },
  {
   "cell_type": "code",
   "execution_count": 56,
   "id": "94bba1ce",
   "metadata": {},
   "outputs": [],
   "source": [
    "# for skewness removal \n",
    "from sklearn.preprocessing import PowerTransformer\n",
    "scale=PowerTransformer()"
   ]
  },
  {
   "cell_type": "code",
   "execution_count": 57,
   "id": "c9387c9f",
   "metadata": {},
   "outputs": [],
   "source": [
    "a=[\"Capital_gain\",\"Capital_loss\",\"Fnlwgt\",\"Age\"]"
   ]
  },
  {
   "cell_type": "code",
   "execution_count": 58,
   "id": "c470c178",
   "metadata": {},
   "outputs": [],
   "source": [
    "new_df[a]=scale.fit_transform(new_df[a])"
   ]
  },
  {
   "cell_type": "code",
   "execution_count": 59,
   "id": "1162d32e",
   "metadata": {},
   "outputs": [
    {
     "data": {
      "text/plain": [
       "Age               -0.020712\n",
       "Workclass          1.953348\n",
       "Fnlwgt            -0.035810\n",
       "Education         -0.936467\n",
       "Education_num     -0.317923\n",
       "Marital_status    -0.039426\n",
       "Occupation         0.506542\n",
       "Relationship       0.786179\n",
       "Race              -2.455257\n",
       "Sex               -0.723080\n",
       "Capital_gain       3.061088\n",
       "Capital_loss      24.903317\n",
       "Hours_per_week     0.339187\n",
       "Native_country    -4.215930\n",
       "Income             1.281715\n",
       "dtype: float64"
      ]
     },
     "execution_count": 59,
     "metadata": {},
     "output_type": "execute_result"
    }
   ],
   "source": [
    "new_df.skew()"
   ]
  },
  {
   "cell_type": "code",
   "execution_count": null,
   "id": "1220f1fe",
   "metadata": {},
   "outputs": [],
   "source": []
  },
  {
   "cell_type": "code",
   "execution_count": 60,
   "id": "737eb7b4",
   "metadata": {},
   "outputs": [
    {
     "data": {
      "text/plain": [
       "<AxesSubplot:xlabel='Income', ylabel='count'>"
      ]
     },
     "execution_count": 60,
     "metadata": {},
     "output_type": "execute_result"
    },
    {
     "data": {
      "image/png": "[encoded data removed]",
      "text/plain": [
       "<Figure size 432x288 with 1 Axes>"
      ]
     },
     "metadata": {
      "needs_background": "light"
     },
     "output_type": "display_data"
    }
   ],
   "source": [
    "sns.countplot(new_df[\"Income\"],data=new_df)"
   ]
  },
  {
   "cell_type": "markdown",
   "id": "46f83eef",
   "metadata": {},
   "source": [
    "#### * There is imbalance in the class(target Variable - Income), we have to deal with this:"
   ]
  },
  {
   "cell_type": "code",
   "execution_count": 61,
   "id": "2adfe05e",
   "metadata": {},
   "outputs": [],
   "source": [
    "from sklearn .utils import resample\n",
    "z=new_df[new_df.Income==0]\n",
    "a=new_df[new_df.Income==1]"
   ]
  },
  {
   "cell_type": "code",
   "execution_count": 62,
   "id": "ebb8a96d",
   "metadata": {},
   "outputs": [],
   "source": [
    "up=resample(a,replace=True,n_samples=len(z),random_state=0)"
   ]
  },
  {
   "cell_type": "code",
   "execution_count": 63,
   "id": "0b3a0669",
   "metadata": {},
   "outputs": [
    {
     "data": {
      "text/html": [
       "<div>\n",
       "<style scoped>\n",
       "    .dataframe tbody tr th:only-of-type {\n",
       "        vertical-align: middle;\n",
       "    }\n",
       "\n",
       "    .dataframe tbody tr th {\n",
       "        vertical-align: top;\n",
       "    }\n",
       "\n",
       "    .dataframe thead th {\n",
       "        text-align: right;\n",
       "    }\n",
       "</style>\n",
       "<table border=\"1\" class=\"dataframe\">\n",
       "  <thead>\n",
       "    <tr style=\"text-align: right;\">\n",
       "      <th></th>\n",
       "      <th>Age</th>\n",
       "      <th>Workclass</th>\n",
       "      <th>Fnlwgt</th>\n",
       "      <th>Education</th>\n",
       "      <th>Education_num</th>\n",
       "      <th>Marital_status</th>\n",
       "      <th>Occupation</th>\n",
       "      <th>Relationship</th>\n",
       "      <th>Race</th>\n",
       "      <th>Sex</th>\n",
       "      <th>Capital_gain</th>\n",
       "      <th>Capital_loss</th>\n",
       "      <th>Hours_per_week</th>\n",
       "      <th>Native_country</th>\n",
       "      <th>Income</th>\n",
       "    </tr>\n",
       "  </thead>\n",
       "  <tbody>\n",
       "    <tr>\n",
       "      <th>0</th>\n",
       "      <td>0.953649</td>\n",
       "      <td>0.0</td>\n",
       "      <td>-1.115464</td>\n",
       "      <td>9</td>\n",
       "      <td>13</td>\n",
       "      <td>2</td>\n",
       "      <td>1.0</td>\n",
       "      <td>0</td>\n",
       "      <td>4</td>\n",
       "      <td>1</td>\n",
       "      <td>-0.297737</td>\n",
       "      <td>-0.040093</td>\n",
       "      <td>13</td>\n",
       "      <td>38</td>\n",
       "      <td>0</td>\n",
       "    </tr>\n",
       "    <tr>\n",
       "      <th>1</th>\n",
       "      <td>0.120609</td>\n",
       "      <td>1.0</td>\n",
       "      <td>0.423564</td>\n",
       "      <td>11</td>\n",
       "      <td>9</td>\n",
       "      <td>0</td>\n",
       "      <td>2.0</td>\n",
       "      <td>1</td>\n",
       "      <td>4</td>\n",
       "      <td>1</td>\n",
       "      <td>-0.297737</td>\n",
       "      <td>-0.040093</td>\n",
       "      <td>40</td>\n",
       "      <td>38</td>\n",
       "      <td>0</td>\n",
       "    </tr>\n",
       "    <tr>\n",
       "      <th>2</th>\n",
       "      <td>1.137744</td>\n",
       "      <td>1.0</td>\n",
       "      <td>0.603607</td>\n",
       "      <td>1</td>\n",
       "      <td>7</td>\n",
       "      <td>2</td>\n",
       "      <td>2.0</td>\n",
       "      <td>0</td>\n",
       "      <td>2</td>\n",
       "      <td>1</td>\n",
       "      <td>-0.297737</td>\n",
       "      <td>-0.040093</td>\n",
       "      <td>40</td>\n",
       "      <td>38</td>\n",
       "      <td>0</td>\n",
       "    </tr>\n",
       "    <tr>\n",
       "      <th>3</th>\n",
       "      <td>-0.742735</td>\n",
       "      <td>1.0</td>\n",
       "      <td>1.484028</td>\n",
       "      <td>9</td>\n",
       "      <td>13</td>\n",
       "      <td>2</td>\n",
       "      <td>3.0</td>\n",
       "      <td>5</td>\n",
       "      <td>2</td>\n",
       "      <td>0</td>\n",
       "      <td>-0.297737</td>\n",
       "      <td>-0.040093</td>\n",
       "      <td>40</td>\n",
       "      <td>4</td>\n",
       "      <td>0</td>\n",
       "    </tr>\n",
       "    <tr>\n",
       "      <th>4</th>\n",
       "      <td>0.042588</td>\n",
       "      <td>1.0</td>\n",
       "      <td>1.045173</td>\n",
       "      <td>12</td>\n",
       "      <td>14</td>\n",
       "      <td>2</td>\n",
       "      <td>1.0</td>\n",
       "      <td>5</td>\n",
       "      <td>4</td>\n",
       "      <td>0</td>\n",
       "      <td>-0.297737</td>\n",
       "      <td>-0.040093</td>\n",
       "      <td>40</td>\n",
       "      <td>38</td>\n",
       "      <td>0</td>\n",
       "    </tr>\n",
       "    <tr>\n",
       "      <th>...</th>\n",
       "      <td>...</td>\n",
       "      <td>...</td>\n",
       "      <td>...</td>\n",
       "      <td>...</td>\n",
       "      <td>...</td>\n",
       "      <td>...</td>\n",
       "      <td>...</td>\n",
       "      <td>...</td>\n",
       "      <td>...</td>\n",
       "      <td>...</td>\n",
       "      <td>...</td>\n",
       "      <td>...</td>\n",
       "      <td>...</td>\n",
       "      <td>...</td>\n",
       "      <td>...</td>\n",
       "    </tr>\n",
       "    <tr>\n",
       "      <th>23734</th>\n",
       "      <td>1.371256</td>\n",
       "      <td>1.0</td>\n",
       "      <td>-0.429917</td>\n",
       "      <td>9</td>\n",
       "      <td>13</td>\n",
       "      <td>2</td>\n",
       "      <td>1.0</td>\n",
       "      <td>0</td>\n",
       "      <td>1</td>\n",
       "      <td>1</td>\n",
       "      <td>-0.297737</td>\n",
       "      <td>-0.040093</td>\n",
       "      <td>40</td>\n",
       "      <td>29</td>\n",
       "      <td>1</td>\n",
       "    </tr>\n",
       "    <tr>\n",
       "      <th>22572</th>\n",
       "      <td>0.694663</td>\n",
       "      <td>3.0</td>\n",
       "      <td>-0.907840</td>\n",
       "      <td>8</td>\n",
       "      <td>11</td>\n",
       "      <td>2</td>\n",
       "      <td>5.0</td>\n",
       "      <td>0</td>\n",
       "      <td>4</td>\n",
       "      <td>1</td>\n",
       "      <td>3.358688</td>\n",
       "      <td>-0.040093</td>\n",
       "      <td>40</td>\n",
       "      <td>38</td>\n",
       "      <td>1</td>\n",
       "    </tr>\n",
       "    <tr>\n",
       "      <th>17735</th>\n",
       "      <td>-0.286376</td>\n",
       "      <td>1.0</td>\n",
       "      <td>0.262720</td>\n",
       "      <td>9</td>\n",
       "      <td>13</td>\n",
       "      <td>2</td>\n",
       "      <td>1.0</td>\n",
       "      <td>0</td>\n",
       "      <td>4</td>\n",
       "      <td>1</td>\n",
       "      <td>-0.297737</td>\n",
       "      <td>-0.040093</td>\n",
       "      <td>55</td>\n",
       "      <td>38</td>\n",
       "      <td>1</td>\n",
       "    </tr>\n",
       "    <tr>\n",
       "      <th>22245</th>\n",
       "      <td>-0.742735</td>\n",
       "      <td>1.0</td>\n",
       "      <td>0.595032</td>\n",
       "      <td>15</td>\n",
       "      <td>10</td>\n",
       "      <td>2</td>\n",
       "      <td>5.0</td>\n",
       "      <td>5</td>\n",
       "      <td>4</td>\n",
       "      <td>0</td>\n",
       "      <td>3.358695</td>\n",
       "      <td>-0.040093</td>\n",
       "      <td>32</td>\n",
       "      <td>38</td>\n",
       "      <td>1</td>\n",
       "    </tr>\n",
       "    <tr>\n",
       "      <th>23547</th>\n",
       "      <td>-0.373275</td>\n",
       "      <td>1.0</td>\n",
       "      <td>0.388961</td>\n",
       "      <td>9</td>\n",
       "      <td>13</td>\n",
       "      <td>2</td>\n",
       "      <td>1.0</td>\n",
       "      <td>5</td>\n",
       "      <td>4</td>\n",
       "      <td>0</td>\n",
       "      <td>-0.297737</td>\n",
       "      <td>-0.040093</td>\n",
       "      <td>40</td>\n",
       "      <td>38</td>\n",
       "      <td>1</td>\n",
       "    </tr>\n",
       "  </tbody>\n",
       "</table>\n",
       "<p>44128 rows × 15 columns</p>\n",
       "</div>"
      ],
      "text/plain": [
       "            Age  Workclass    Fnlwgt  Education  Education_num  \\\n",
       "0      0.953649        0.0 -1.115464          9             13   \n",
       "1      0.120609        1.0  0.423564         11              9   \n",
       "2      1.137744        1.0  0.603607          1              7   \n",
       "3     -0.742735        1.0  1.484028          9             13   \n",
       "4      0.042588        1.0  1.045173         12             14   \n",
       "...         ...        ...       ...        ...            ...   \n",
       "23734  1.371256        1.0 -0.429917          9             13   \n",
       "22572  0.694663        3.0 -0.907840          8             11   \n",
       "17735 -0.286376        1.0  0.262720          9             13   \n",
       "22245 -0.742735        1.0  0.595032         15             10   \n",
       "23547 -0.373275        1.0  0.388961          9             13   \n",
       "\n",
       "       Marital_status  Occupation  Relationship  Race  Sex  Capital_gain  \\\n",
       "0                   2         1.0             0     4    1     -0.297737   \n",
       "1                   0         2.0             1     4    1     -0.297737   \n",
       "2                   2         2.0             0     2    1     -0.297737   \n",
       "3                   2         3.0             5     2    0     -0.297737   \n",
       "4                   2         1.0             5     4    0     -0.297737   \n",
       "...               ...         ...           ...   ...  ...           ...   \n",
       "23734               2         1.0             0     1    1     -0.297737   \n",
       "22572               2         5.0             0     4    1      3.358688   \n",
       "17735               2         1.0             0     4    1     -0.297737   \n",
       "22245               2         5.0             5     4    0      3.358695   \n",
       "23547               2         1.0             5     4    0     -0.297737   \n",
       "\n",
       "       Capital_loss  Hours_per_week  Native_country  Income  \n",
       "0         -0.040093              13              38       0  \n",
       "1         -0.040093              40              38       0  \n",
       "2         -0.040093              40              38       0  \n",
       "3         -0.040093              40               4       0  \n",
       "4         -0.040093              40              38       0  \n",
       "...             ...             ...             ...     ...  \n",
       "23734     -0.040093              40              29       1  \n",
       "22572     -0.040093              40              38       1  \n",
       "17735     -0.040093              55              38       1  \n",
       "22245     -0.040093              32              38       1  \n",
       "23547     -0.040093              40              38       1  \n",
       "\n",
       "[44128 rows x 15 columns]"
      ]
     },
     "execution_count": 63,
     "metadata": {},
     "output_type": "execute_result"
    }
   ],
   "source": [
    "new_df1=pd.concat([z,up])\n",
    "new_df1"
   ]
  },
  {
   "cell_type": "code",
   "execution_count": 64,
   "id": "f8c431f5",
   "metadata": {},
   "outputs": [
    {
     "data": {
      "text/plain": [
       "<AxesSubplot:xlabel='Income', ylabel='count'>"
      ]
     },
     "execution_count": 64,
     "metadata": {},
     "output_type": "execute_result"
    },
    {
     "data": {
      "image/png": "[encoded data removed]",
      "text/plain": [
       "<Figure size 432x288 with 1 Axes>"
      ]
     },
     "metadata": {
      "needs_background": "light"
     },
     "output_type": "display_data"
    }
   ],
   "source": [
    "# Checking the count of target class - Income again:\n",
    "\n",
    "sns.countplot(new_df1[\"Income\"],data=new_df1)"
   ]
  },
  {
   "cell_type": "code",
   "execution_count": 65,
   "id": "e0fb0d5d",
   "metadata": {},
   "outputs": [],
   "source": [
    "# Now the classes are balanced :"
   ]
  },
  {
   "cell_type": "code",
   "execution_count": 66,
   "id": "811d992b",
   "metadata": {},
   "outputs": [],
   "source": [
    "# Splitting the Dataset into Target and Features :"
   ]
  },
  {
   "cell_type": "code",
   "execution_count": 67,
   "id": "8024bcd6",
   "metadata": {},
   "outputs": [],
   "source": [
    "x = new_df1.drop(columns=[\"Income\",\"Capital_gain\",\"Capital_loss\"],axis=1)\n",
    "y = new_df1[\"Income\"]"
   ]
  },
  {
   "cell_type": "markdown",
   "id": "d6b7e862",
   "metadata": {},
   "source": [
    "## Model Building "
   ]
  },
  {
   "cell_type": "code",
   "execution_count": 93,
   "id": "8fb232a0",
   "metadata": {},
   "outputs": [],
   "source": [
    "from sklearn.model_selection import train_test_split,GridSearchCV,cross_val_score\n",
    "from sklearn.tree import DecisionTreeClassifier\n",
    "from sklearn.preprocessing import StandardScaler\n",
    "from sklearn.metrics import accuracy_score, confusion_matrix, classification_report, roc_auc_score, roc_curve,auc, plot_roc_curve\n",
    "from sklearn.linear_model import LogisticRegression,Ridge\n",
    "from sklearn.ensemble import GradientBoostingClassifier, BaggingClassifier, RandomForestClassifier\n",
    "from sklearn.neighbors import KNeighborsClassifier\n",
    "from sklearn.svm import SVC"
   ]
  },
  {
   "cell_type": "code",
   "execution_count": 69,
   "id": "19cb422f",
   "metadata": {},
   "outputs": [],
   "source": [
    "# scaling the datset:\n",
    "\n",
    "sc = StandardScaler()\n",
    "x_scaled = sc.fit_transform(x)"
   ]
  },
  {
   "cell_type": "code",
   "execution_count": 70,
   "id": "4ec4a352",
   "metadata": {},
   "outputs": [
    {
     "name": "stdout",
     "output_type": "stream",
     "text": [
      "At random state 10 The model performs very well\n",
      "At random state :-  10\n",
      "Training accuracy_score is :-  74.6\n",
      "Testing accuracy_score is :-  74.6 \n",
      "\n",
      "\n",
      "At random state 12 The model performs very well\n",
      "At random state :-  12\n",
      "Training accuracy_score is :-  74.6\n",
      "Testing accuracy_score is :-  74.6 \n",
      "\n",
      "\n",
      "At random state 26 The model performs very well\n",
      "At random state :-  26\n",
      "Training accuracy_score is :-  74.6\n",
      "Testing accuracy_score is :-  74.6 \n",
      "\n",
      "\n",
      "At random state 31 The model performs very well\n",
      "At random state :-  31\n",
      "Training accuracy_score is :-  74.6\n",
      "Testing accuracy_score is :-  74.6 \n",
      "\n",
      "\n",
      "At random state 41 The model performs very well\n",
      "At random state :-  41\n",
      "Training accuracy_score is :-  74.6\n",
      "Testing accuracy_score is :-  74.6 \n",
      "\n",
      "\n",
      "At random state 49 The model performs very well\n",
      "At random state :-  49\n",
      "Training accuracy_score is :-  74.5\n",
      "Testing accuracy_score is :-  74.5 \n",
      "\n",
      "\n",
      "At random state 53 The model performs very well\n",
      "At random state :-  53\n",
      "Training accuracy_score is :-  74.7\n",
      "Testing accuracy_score is :-  74.7 \n",
      "\n",
      "\n",
      "At random state 59 The model performs very well\n",
      "At random state :-  59\n",
      "Training accuracy_score is :-  74.6\n",
      "Testing accuracy_score is :-  74.6 \n",
      "\n",
      "\n",
      "At random state 97 The model performs very well\n",
      "At random state :-  97\n",
      "Training accuracy_score is :-  74.6\n",
      "Testing accuracy_score is :-  74.6 \n",
      "\n",
      "\n",
      "At random state 99 The model performs very well\n",
      "At random state :-  99\n",
      "Training accuracy_score is :-  74.7\n",
      "Testing accuracy_score is :-  74.7 \n",
      "\n",
      "\n",
      "At random state 103 The model performs very well\n",
      "At random state :-  103\n",
      "Training accuracy_score is :-  74.7\n",
      "Testing accuracy_score is :-  74.7 \n",
      "\n",
      "\n",
      "At random state 105 The model performs very well\n",
      "At random state :-  105\n",
      "Training accuracy_score is :-  74.6\n",
      "Testing accuracy_score is :-  74.6 \n",
      "\n",
      "\n",
      "At random state 108 The model performs very well\n",
      "At random state :-  108\n",
      "Training accuracy_score is :-  74.6\n",
      "Testing accuracy_score is :-  74.6 \n",
      "\n",
      "\n",
      "At random state 110 The model performs very well\n",
      "At random state :-  110\n",
      "Training accuracy_score is :-  74.6\n",
      "Testing accuracy_score is :-  74.6 \n",
      "\n",
      "\n",
      "At random state 123 The model performs very well\n",
      "At random state :-  123\n",
      "Training accuracy_score is :-  74.6\n",
      "Testing accuracy_score is :-  74.6 \n",
      "\n",
      "\n",
      "At random state 189 The model performs very well\n",
      "At random state :-  189\n",
      "Training accuracy_score is :-  74.6\n",
      "Testing accuracy_score is :-  74.6 \n",
      "\n",
      "\n",
      "At random state 208 The model performs very well\n",
      "At random state :-  208\n",
      "Training accuracy_score is :-  74.7\n",
      "Testing accuracy_score is :-  74.7 \n",
      "\n",
      "\n",
      "At random state 221 The model performs very well\n",
      "At random state :-  221\n",
      "Training accuracy_score is :-  74.8\n",
      "Testing accuracy_score is :-  74.8 \n",
      "\n",
      "\n",
      "At random state 253 The model performs very well\n",
      "At random state :-  253\n",
      "Training accuracy_score is :-  74.6\n",
      "Testing accuracy_score is :-  74.6 \n",
      "\n",
      "\n",
      "At random state 268 The model performs very well\n",
      "At random state :-  268\n",
      "Training accuracy_score is :-  74.6\n",
      "Testing accuracy_score is :-  74.6 \n",
      "\n",
      "\n",
      "At random state 272 The model performs very well\n",
      "At random state :-  272\n",
      "Training accuracy_score is :-  74.6\n",
      "Testing accuracy_score is :-  74.6 \n",
      "\n",
      "\n",
      "At random state 276 The model performs very well\n",
      "At random state :-  276\n",
      "Training accuracy_score is :-  74.6\n",
      "Testing accuracy_score is :-  74.6 \n",
      "\n",
      "\n",
      "At random state 312 The model performs very well\n",
      "At random state :-  312\n",
      "Training accuracy_score is :-  74.5\n",
      "Testing accuracy_score is :-  74.5 \n",
      "\n",
      "\n",
      "At random state 319 The model performs very well\n",
      "At random state :-  319\n",
      "Training accuracy_score is :-  74.7\n",
      "Testing accuracy_score is :-  74.7 \n",
      "\n",
      "\n",
      "At random state 340 The model performs very well\n",
      "At random state :-  340\n",
      "Training accuracy_score is :-  74.6\n",
      "Testing accuracy_score is :-  74.6 \n",
      "\n",
      "\n",
      "At random state 358 The model performs very well\n",
      "At random state :-  358\n",
      "Training accuracy_score is :-  74.6\n",
      "Testing accuracy_score is :-  74.6 \n",
      "\n",
      "\n",
      "At random state 370 The model performs very well\n",
      "At random state :-  370\n",
      "Training accuracy_score is :-  74.7\n",
      "Testing accuracy_score is :-  74.7 \n",
      "\n",
      "\n",
      "At random state 377 The model performs very well\n",
      "At random state :-  377\n",
      "Training accuracy_score is :-  74.6\n",
      "Testing accuracy_score is :-  74.6 \n",
      "\n",
      "\n",
      "At random state 378 The model performs very well\n",
      "At random state :-  378\n",
      "Training accuracy_score is :-  74.6\n",
      "Testing accuracy_score is :-  74.6 \n",
      "\n",
      "\n",
      "At random state 423 The model performs very well\n",
      "At random state :-  423\n",
      "Training accuracy_score is :-  74.7\n",
      "Testing accuracy_score is :-  74.7 \n",
      "\n",
      "\n",
      "At random state 430 The model performs very well\n",
      "At random state :-  430\n",
      "Training accuracy_score is :-  74.7\n",
      "Testing accuracy_score is :-  74.7 \n",
      "\n",
      "\n",
      "At random state 438 The model performs very well\n",
      "At random state :-  438\n",
      "Training accuracy_score is :-  74.6\n",
      "Testing accuracy_score is :-  74.6 \n",
      "\n",
      "\n",
      "At random state 448 The model performs very well\n",
      "At random state :-  448\n",
      "Training accuracy_score is :-  74.5\n",
      "Testing accuracy_score is :-  74.5 \n",
      "\n",
      "\n",
      "At random state 490 The model performs very well\n",
      "At random state :-  490\n",
      "Training accuracy_score is :-  74.7\n",
      "Testing accuracy_score is :-  74.7 \n",
      "\n",
      "\n",
      "At random state 495 The model performs very well\n",
      "At random state :-  495\n",
      "Training accuracy_score is :-  74.7\n",
      "Testing accuracy_score is :-  74.7 \n",
      "\n",
      "\n",
      "At random state 510 The model performs very well\n",
      "At random state :-  510\n",
      "Training accuracy_score is :-  74.6\n",
      "Testing accuracy_score is :-  74.6 \n",
      "\n",
      "\n",
      "At random state 515 The model performs very well\n",
      "At random state :-  515\n",
      "Training accuracy_score is :-  74.6\n",
      "Testing accuracy_score is :-  74.6 \n",
      "\n",
      "\n",
      "At random state 533 The model performs very well\n",
      "At random state :-  533\n",
      "Training accuracy_score is :-  74.6\n",
      "Testing accuracy_score is :-  74.6 \n",
      "\n",
      "\n",
      "At random state 541 The model performs very well\n",
      "At random state :-  541\n",
      "Training accuracy_score is :-  74.7\n",
      "Testing accuracy_score is :-  74.7 \n",
      "\n",
      "\n",
      "At random state 556 The model performs very well\n",
      "At random state :-  556\n",
      "Training accuracy_score is :-  74.6\n",
      "Testing accuracy_score is :-  74.6 \n",
      "\n",
      "\n",
      "At random state 559 The model performs very well\n",
      "At random state :-  559\n",
      "Training accuracy_score is :-  74.6\n",
      "Testing accuracy_score is :-  74.6 \n",
      "\n",
      "\n",
      "At random state 562 The model performs very well\n",
      "At random state :-  562\n",
      "Training accuracy_score is :-  74.6\n",
      "Testing accuracy_score is :-  74.6 \n",
      "\n",
      "\n",
      "At random state 574 The model performs very well\n",
      "At random state :-  574\n",
      "Training accuracy_score is :-  74.5\n",
      "Testing accuracy_score is :-  74.5 \n",
      "\n",
      "\n",
      "At random state 579 The model performs very well\n",
      "At random state :-  579\n",
      "Training accuracy_score is :-  74.8\n",
      "Testing accuracy_score is :-  74.8 \n",
      "\n",
      "\n",
      "At random state 600 The model performs very well\n",
      "At random state :-  600\n",
      "Training accuracy_score is :-  74.5\n",
      "Testing accuracy_score is :-  74.5 \n",
      "\n",
      "\n",
      "At random state 606 The model performs very well\n",
      "At random state :-  606\n",
      "Training accuracy_score is :-  74.6\n",
      "Testing accuracy_score is :-  74.6 \n",
      "\n",
      "\n",
      "At random state 610 The model performs very well\n",
      "At random state :-  610\n",
      "Training accuracy_score is :-  74.7\n",
      "Testing accuracy_score is :-  74.7 \n",
      "\n",
      "\n",
      "At random state 633 The model performs very well\n",
      "At random state :-  633\n",
      "Training accuracy_score is :-  74.6\n",
      "Testing accuracy_score is :-  74.6 \n",
      "\n",
      "\n",
      "At random state 671 The model performs very well\n",
      "At random state :-  671\n",
      "Training accuracy_score is :-  74.6\n",
      "Testing accuracy_score is :-  74.6 \n",
      "\n",
      "\n",
      "At random state 672 The model performs very well\n",
      "At random state :-  672\n",
      "Training accuracy_score is :-  74.7\n",
      "Testing accuracy_score is :-  74.7 \n",
      "\n",
      "\n",
      "At random state 674 The model performs very well\n",
      "At random state :-  674\n",
      "Training accuracy_score is :-  74.5\n",
      "Testing accuracy_score is :-  74.5 \n",
      "\n",
      "\n",
      "At random state 705 The model performs very well\n",
      "At random state :-  705\n",
      "Training accuracy_score is :-  74.6\n",
      "Testing accuracy_score is :-  74.6 \n",
      "\n",
      "\n",
      "At random state 714 The model performs very well\n",
      "At random state :-  714\n",
      "Training accuracy_score is :-  74.7\n",
      "Testing accuracy_score is :-  74.7 \n",
      "\n",
      "\n",
      "At random state 716 The model performs very well\n",
      "At random state :-  716\n",
      "Training accuracy_score is :-  74.7\n",
      "Testing accuracy_score is :-  74.7 \n",
      "\n",
      "\n",
      "At random state 729 The model performs very well\n",
      "At random state :-  729\n",
      "Training accuracy_score is :-  74.7\n",
      "Testing accuracy_score is :-  74.7 \n",
      "\n",
      "\n",
      "At random state 740 The model performs very well\n",
      "At random state :-  740\n",
      "Training accuracy_score is :-  74.6\n",
      "Testing accuracy_score is :-  74.6 \n",
      "\n",
      "\n",
      "At random state 755 The model performs very well\n",
      "At random state :-  755\n",
      "Training accuracy_score is :-  74.6\n",
      "Testing accuracy_score is :-  74.6 \n",
      "\n",
      "\n",
      "At random state 771 The model performs very well\n",
      "At random state :-  771\n",
      "Training accuracy_score is :-  74.7\n",
      "Testing accuracy_score is :-  74.7 \n",
      "\n",
      "\n",
      "At random state 783 The model performs very well\n",
      "At random state :-  783\n",
      "Training accuracy_score is :-  74.6\n",
      "Testing accuracy_score is :-  74.6 \n",
      "\n",
      "\n",
      "At random state 785 The model performs very well\n",
      "At random state :-  785\n",
      "Training accuracy_score is :-  74.6\n",
      "Testing accuracy_score is :-  74.6 \n",
      "\n",
      "\n",
      "At random state 799 The model performs very well\n",
      "At random state :-  799\n",
      "Training accuracy_score is :-  74.7\n",
      "Testing accuracy_score is :-  74.7 \n",
      "\n",
      "\n",
      "At random state 828 The model performs very well\n",
      "At random state :-  828\n",
      "Training accuracy_score is :-  74.7\n",
      "Testing accuracy_score is :-  74.7 \n",
      "\n",
      "\n",
      "At random state 848 The model performs very well\n",
      "At random state :-  848\n",
      "Training accuracy_score is :-  74.6\n",
      "Testing accuracy_score is :-  74.6 \n",
      "\n",
      "\n",
      "At random state 884 The model performs very well\n",
      "At random state :-  884\n",
      "Training accuracy_score is :-  74.4\n",
      "Testing accuracy_score is :-  74.4 \n",
      "\n",
      "\n",
      "At random state 892 The model performs very well\n",
      "At random state :-  892\n",
      "Training accuracy_score is :-  74.6\n",
      "Testing accuracy_score is :-  74.6 \n",
      "\n",
      "\n",
      "At random state 898 The model performs very well\n",
      "At random state :-  898\n",
      "Training accuracy_score is :-  74.7\n",
      "Testing accuracy_score is :-  74.7 \n",
      "\n",
      "\n",
      "At random state 900 The model performs very well\n",
      "At random state :-  900\n",
      "Training accuracy_score is :-  74.6\n",
      "Testing accuracy_score is :-  74.6 \n",
      "\n",
      "\n",
      "At random state 907 The model performs very well\n",
      "At random state :-  907\n",
      "Training accuracy_score is :-  74.6\n",
      "Testing accuracy_score is :-  74.6 \n",
      "\n",
      "\n",
      "At random state 927 The model performs very well\n",
      "At random state :-  927\n",
      "Training accuracy_score is :-  74.6\n",
      "Testing accuracy_score is :-  74.6 \n",
      "\n",
      "\n",
      "At random state 941 The model performs very well\n",
      "At random state :-  941\n",
      "Training accuracy_score is :-  74.7\n",
      "Testing accuracy_score is :-  74.7 \n",
      "\n",
      "\n",
      "At random state 960 The model performs very well\n",
      "At random state :-  960\n",
      "Training accuracy_score is :-  74.6\n",
      "Testing accuracy_score is :-  74.6 \n",
      "\n",
      "\n",
      "At random state 961 The model performs very well\n",
      "At random state :-  961\n",
      "Training accuracy_score is :-  74.6\n",
      "Testing accuracy_score is :-  74.6 \n",
      "\n",
      "\n",
      "At random state 970 The model performs very well\n",
      "At random state :-  970\n",
      "Training accuracy_score is :-  74.6\n",
      "Testing accuracy_score is :-  74.6 \n",
      "\n",
      "\n",
      "At random state 978 The model performs very well\n",
      "At random state :-  978\n",
      "Training accuracy_score is :-  74.6\n",
      "Testing accuracy_score is :-  74.6 \n",
      "\n",
      "\n",
      "At random state 994 The model performs very well\n",
      "At random state :-  994\n",
      "Training accuracy_score is :-  74.7\n",
      "Testing accuracy_score is :-  74.7 \n",
      "\n",
      "\n"
     ]
    }
   ],
   "source": [
    "# Finding the best random state :\n",
    "\n",
    "lr = LogisticRegression()\n",
    "\n",
    "for i in range(0,1000):\n",
    "    x_train, x_test, y_train, y_test = train_test_split(x_scaled, y, test_size =0.20, random_state =i)\n",
    "    lr.fit(x_train, y_train)\n",
    "    pred_train = lr.predict(x_train)\n",
    "    pred_test = lr.predict(x_test)\n",
    "    if round(accuracy_score(y_train, pred_train)*100,1)==round(accuracy_score(y_test, pred_test)*100,1):\n",
    "        print(\"At random state\", i, \"The model performs very well\")\n",
    "        print(\"At random state :- \", i)\n",
    "        print(\"Training accuracy_score is :- \", round(accuracy_score(y_train, pred_train)*100,1))\n",
    "        print(\"Testing accuracy_score is :- \", round(accuracy_score(y_test, pred_test)*100,1), '\\n\\n')"
   ]
  },
  {
   "cell_type": "code",
   "execution_count": 71,
   "id": "4d447abe",
   "metadata": {},
   "outputs": [],
   "source": [
    "x_train, x_test, y_train, y_test = train_test_split(x_scaled, y, test_size = 0.20, random_state = 221)"
   ]
  },
  {
   "cell_type": "code",
   "execution_count": 72,
   "id": "375ba14e",
   "metadata": {},
   "outputs": [],
   "source": [
    "from sklearn.model_selection import cross_val_score"
   ]
  },
  {
   "cell_type": "code",
   "execution_count": 73,
   "id": "7c643b51",
   "metadata": {},
   "outputs": [],
   "source": [
    "x_train, cv_x, y_train, cv_y = train_test_split(x_train, y_train, test_size = 0.20, random_state = 221)"
   ]
  },
  {
   "cell_type": "code",
   "execution_count": 74,
   "id": "50d4c920",
   "metadata": {},
   "outputs": [
    {
     "data": {
      "text/plain": [
       "((28241, 12), (8826, 12), (28241,), (8826,), (7061, 12), (7061,))"
      ]
     },
     "execution_count": 74,
     "metadata": {},
     "output_type": "execute_result"
    }
   ],
   "source": [
    "x_train.shape, x_test.shape, y_train.shape, y_test.shape, cv_x.shape, cv_y.shape"
   ]
  },
  {
   "cell_type": "code",
   "execution_count": null,
   "id": "21df0e1b",
   "metadata": {},
   "outputs": [],
   "source": []
  },
  {
   "cell_type": "code",
   "execution_count": 75,
   "id": "e5af60b7",
   "metadata": {},
   "outputs": [],
   "source": [
    "# Defining a function for model selection :\n",
    "\n",
    "def func(instance, X_train, Y_train, X_test, Y_test, cv_X, cv_Y):\n",
    "    instances = instance.fit(X_train,Y_train)\n",
    "    train_pred = instances.predict(X_train)\n",
    "    test_pred = instances.predict(X_test)\n",
    "    print('training confucion matrix',confusion_matrix(Y_train,train_pred))\n",
    "    print('testing confucion matrix',confusion_matrix(Y_test,test_pred))\n",
    "    print('test ',classification_report(Y_test, test_pred))\n",
    "    print('training ',classification_report(Y_train, train_pred))\n",
    "    print('cross_val_score',cross_val_score(instances,cv_X,cv_Y))\n",
    "    print('cross_val_score Mean',cross_val_score(instances,cv_X,cv_Y).mean())"
   ]
  },
  {
   "cell_type": "code",
   "execution_count": 76,
   "id": "2ed1053b",
   "metadata": {},
   "outputs": [
    {
     "name": "stdout",
     "output_type": "stream",
     "text": [
      "training confucion matrix [[11327  2794]\n",
      " [  760 13360]]\n",
      "testing confucion matrix [[3295 1125]\n",
      " [ 481 3925]]\n",
      "test                precision    recall  f1-score   support\n",
      "\n",
      "           0       0.87      0.75      0.80      4420\n",
      "           1       0.78      0.89      0.83      4406\n",
      "\n",
      "    accuracy                           0.82      8826\n",
      "   macro avg       0.82      0.82      0.82      8826\n",
      "weighted avg       0.82      0.82      0.82      8826\n",
      "\n",
      "training                precision    recall  f1-score   support\n",
      "\n",
      "           0       0.94      0.80      0.86     14121\n",
      "           1       0.83      0.95      0.88     14120\n",
      "\n",
      "    accuracy                           0.87     28241\n",
      "   macro avg       0.88      0.87      0.87     28241\n",
      "weighted avg       0.88      0.87      0.87     28241\n",
      "\n",
      "cross_val_score [0.76928521 0.78541076 0.77903683 0.78895184 0.7825779 ]\n",
      "cross_val_score Mean 0.7810525091772272\n"
     ]
    }
   ],
   "source": [
    "model1 = KNeighborsClassifier()\n",
    "func(model1, x_train,y_train,x_test,y_test,cv_x,cv_y)"
   ]
  },
  {
   "cell_type": "code",
   "execution_count": 77,
   "id": "282fd222",
   "metadata": {},
   "outputs": [
    {
     "name": "stdout",
     "output_type": "stream",
     "text": [
      "training confucion matrix [[14120     1]\n",
      " [    0 14120]]\n",
      "testing confucion matrix [[3610  810]\n",
      " [ 233 4173]]\n",
      "test                precision    recall  f1-score   support\n",
      "\n",
      "           0       0.94      0.82      0.87      4420\n",
      "           1       0.84      0.95      0.89      4406\n",
      "\n",
      "    accuracy                           0.88      8826\n",
      "   macro avg       0.89      0.88      0.88      8826\n",
      "weighted avg       0.89      0.88      0.88      8826\n",
      "\n",
      "training                precision    recall  f1-score   support\n",
      "\n",
      "           0       1.00      1.00      1.00     14121\n",
      "           1       1.00      1.00      1.00     14120\n",
      "\n",
      "    accuracy                           1.00     28241\n",
      "   macro avg       1.00      1.00      1.00     28241\n",
      "weighted avg       1.00      1.00      1.00     28241\n",
      "\n",
      "cross_val_score [0.78768577 0.78541076 0.77903683 0.7825779  0.78328612]\n",
      "cross_val_score Mean 0.7803425897523804\n"
     ]
    }
   ],
   "source": [
    "model2 = DecisionTreeClassifier()\n",
    "func(model2, x_train,y_train,x_test,y_test,cv_x,cv_y)"
   ]
  },
  {
   "cell_type": "code",
   "execution_count": 78,
   "id": "1e271e4f",
   "metadata": {},
   "outputs": [
    {
     "name": "stdout",
     "output_type": "stream",
     "text": [
      "training confucion matrix [[14043    78]\n",
      " [   48 14072]]\n",
      "testing confucion matrix [[3763  657]\n",
      " [ 225 4181]]\n",
      "test                precision    recall  f1-score   support\n",
      "\n",
      "           0       0.94      0.85      0.90      4420\n",
      "           1       0.86      0.95      0.90      4406\n",
      "\n",
      "    accuracy                           0.90      8826\n",
      "   macro avg       0.90      0.90      0.90      8826\n",
      "weighted avg       0.90      0.90      0.90      8826\n",
      "\n",
      "training                precision    recall  f1-score   support\n",
      "\n",
      "           0       1.00      0.99      1.00     14121\n",
      "           1       0.99      1.00      1.00     14120\n",
      "\n",
      "    accuracy                           1.00     28241\n",
      "   macro avg       1.00      1.00      1.00     28241\n",
      "weighted avg       1.00      1.00      1.00     28241\n",
      "\n",
      "cross_val_score [0.81457891 0.81798867 0.82223796 0.80736544 0.80665722]\n",
      "cross_val_score Mean 0.8158900857877779\n"
     ]
    }
   ],
   "source": [
    "model4 = BaggingClassifier()\n",
    "func(model4, x_train,y_train,x_test,y_test,cv_x,cv_y)"
   ]
  },
  {
   "cell_type": "code",
   "execution_count": 79,
   "id": "65c448f2",
   "metadata": {},
   "outputs": [
    {
     "name": "stdout",
     "output_type": "stream",
     "text": [
      "training confucion matrix [[14120     1]\n",
      " [    0 14120]]\n",
      "testing confucion matrix [[3724  696]\n",
      " [ 160 4246]]\n",
      "test                precision    recall  f1-score   support\n",
      "\n",
      "           0       0.96      0.84      0.90      4420\n",
      "           1       0.86      0.96      0.91      4406\n",
      "\n",
      "    accuracy                           0.90      8826\n",
      "   macro avg       0.91      0.90      0.90      8826\n",
      "weighted avg       0.91      0.90      0.90      8826\n",
      "\n",
      "training                precision    recall  f1-score   support\n",
      "\n",
      "           0       1.00      1.00      1.00     14121\n",
      "           1       1.00      1.00      1.00     14120\n",
      "\n",
      "    accuracy                           1.00     28241\n",
      "   macro avg       1.00      1.00      1.00     28241\n",
      "weighted avg       1.00      1.00      1.00     28241\n",
      "\n",
      "cross_val_score [0.82661005 0.83356941 0.82507082 0.83215297 0.83286119]\n",
      "cross_val_score Mean 0.8314680155336225\n"
     ]
    }
   ],
   "source": [
    "model5 = RandomForestClassifier()\n",
    "func(model5, x_train,y_train,x_test,y_test,cv_x,cv_y)"
   ]
  },
  {
   "cell_type": "code",
   "execution_count": 80,
   "id": "e9ab92b9",
   "metadata": {},
   "outputs": [
    {
     "name": "stdout",
     "output_type": "stream",
     "text": [
      "training confucion matrix [[10664  3457]\n",
      " [ 1547 12573]]\n",
      "testing confucion matrix [[3266 1154]\n",
      " [ 495 3911]]\n",
      "test                precision    recall  f1-score   support\n",
      "\n",
      "           0       0.87      0.74      0.80      4420\n",
      "           1       0.77      0.89      0.83      4406\n",
      "\n",
      "    accuracy                           0.81      8826\n",
      "   macro avg       0.82      0.81      0.81      8826\n",
      "weighted avg       0.82      0.81      0.81      8826\n",
      "\n",
      "training                precision    recall  f1-score   support\n",
      "\n",
      "           0       0.87      0.76      0.81     14121\n",
      "           1       0.78      0.89      0.83     14120\n",
      "\n",
      "    accuracy                           0.82     28241\n",
      "   macro avg       0.83      0.82      0.82     28241\n",
      "weighted avg       0.83      0.82      0.82     28241\n",
      "\n",
      "cross_val_score [0.80042463 0.8101983  0.8101983  0.80524079 0.81444759]\n",
      "cross_val_score Mean 0.80810192285716\n"
     ]
    }
   ],
   "source": [
    "model6 = SVC()\n",
    "func(model6, x_train,y_train,x_test,y_test,cv_x,cv_y)"
   ]
  },
  {
   "cell_type": "code",
   "execution_count": 81,
   "id": "4e1d4d7e",
   "metadata": {},
   "outputs": [],
   "source": [
    "from sklearn.ensemble import ExtraTreesClassifier"
   ]
  },
  {
   "cell_type": "code",
   "execution_count": 82,
   "id": "37f6ceee",
   "metadata": {},
   "outputs": [
    {
     "name": "stdout",
     "output_type": "stream",
     "text": [
      "training confucion matrix [[14120     1]\n",
      " [    0 14120]]\n",
      "testing confucion matrix [[3857  563]\n",
      " [ 193 4213]]\n",
      "test                precision    recall  f1-score   support\n",
      "\n",
      "           0       0.95      0.87      0.91      4420\n",
      "           1       0.88      0.96      0.92      4406\n",
      "\n",
      "    accuracy                           0.91      8826\n",
      "   macro avg       0.92      0.91      0.91      8826\n",
      "weighted avg       0.92      0.91      0.91      8826\n",
      "\n",
      "training                precision    recall  f1-score   support\n",
      "\n",
      "           0       1.00      1.00      1.00     14121\n",
      "           1       1.00      1.00      1.00     14120\n",
      "\n",
      "    accuracy                           1.00     28241\n",
      "   macro avg       1.00      1.00      1.00     28241\n",
      "weighted avg       1.00      1.00      1.00     28241\n",
      "\n",
      "cross_val_score [0.82024062 0.83498584 0.82507082 0.81869688 0.83073654]\n",
      "cross_val_score Mean 0.82707808311731\n"
     ]
    }
   ],
   "source": [
    "model7 = ExtraTreesClassifier()\n",
    "func(model7, x_train,y_train,x_test,y_test,cv_x,cv_y)"
   ]
  },
  {
   "cell_type": "code",
   "execution_count": 83,
   "id": "52869b9a",
   "metadata": {},
   "outputs": [
    {
     "name": "stdout",
     "output_type": "stream",
     "text": [
      "training confucion matrix [[10910  3211]\n",
      " [ 1929 12191]]\n",
      "testing confucion matrix [[3378 1042]\n",
      " [ 582 3824]]\n",
      "test                precision    recall  f1-score   support\n",
      "\n",
      "           0       0.85      0.76      0.81      4420\n",
      "           1       0.79      0.87      0.82      4406\n",
      "\n",
      "    accuracy                           0.82      8826\n",
      "   macro avg       0.82      0.82      0.82      8826\n",
      "weighted avg       0.82      0.82      0.82      8826\n",
      "\n",
      "training                precision    recall  f1-score   support\n",
      "\n",
      "           0       0.85      0.77      0.81     14121\n",
      "           1       0.79      0.86      0.83     14120\n",
      "\n",
      "    accuracy                           0.82     28241\n",
      "   macro avg       0.82      0.82      0.82     28241\n",
      "weighted avg       0.82      0.82      0.82     28241\n",
      "\n",
      "cross_val_score [0.8089172  0.81161473 0.81869688 0.81444759 0.82365439]\n",
      "cross_val_score Mean 0.815466159037188\n"
     ]
    }
   ],
   "source": [
    "model8 = GradientBoostingClassifier()\n",
    "func(model8, x_train,y_train,x_test,y_test,cv_x,cv_y)"
   ]
  },
  {
   "cell_type": "code",
   "execution_count": null,
   "id": "e963b49c",
   "metadata": {},
   "outputs": [],
   "source": []
  },
  {
   "cell_type": "markdown",
   "id": "a86042ad",
   "metadata": {},
   "source": [
    "### Plotting the ROC-AUC curve for better insight :"
   ]
  },
  {
   "cell_type": "code",
   "execution_count": 98,
   "id": "3f413ac7",
   "metadata": {},
   "outputs": [
    {
     "data": {
      "image/png": "[encoded data removed]",
      "text/plain": [
       "<Figure size 432x288 with 1 Axes>"
      ]
     },
     "metadata": {
      "needs_background": "light"
     },
     "output_type": "display_data"
    }
   ],
   "source": [
    "disp = plot_roc_curve(model1, x_test, y_test)\n",
    "plot_roc_curve(model2, x_test, y_test, ax = disp.ax_)\n",
    "plot_roc_curve(model4, x_test, y_test, ax = disp.ax_)\n",
    "plot_roc_curve(model5, x_test, y_test, ax = disp.ax_)\n",
    "plot_roc_curve(model6, x_test, y_test, ax = disp.ax_)\n",
    "plot_roc_curve(model7, x_test, y_test, ax = disp.ax_)\n",
    "plot_roc_curve(model8, x_test, y_test, ax = disp.ax_)\n",
    "plt.legend(prop = {'size':11}, loc = 'lower right')\n",
    "plt.show()"
   ]
  },
  {
   "cell_type": "code",
   "execution_count": null,
   "id": "1ee1ef62",
   "metadata": {},
   "outputs": [],
   "source": []
  },
  {
   "cell_type": "markdown",
   "id": "7326e743",
   "metadata": {},
   "source": [
    "#### * ExtraTreeClassifier is the best model as the AUC is more in this model. Let's tune the model:"
   ]
  },
  {
   "cell_type": "markdown",
   "id": "1b61f26b",
   "metadata": {},
   "source": [
    "### Hyperparameter Tunning :"
   ]
  },
  {
   "cell_type": "code",
   "execution_count": 99,
   "id": "699fcff0",
   "metadata": {},
   "outputs": [],
   "source": [
    "from sklearn.model_selection import GridSearchCV"
   ]
  },
  {
   "cell_type": "code",
   "execution_count": 100,
   "id": "088107a5",
   "metadata": {},
   "outputs": [],
   "source": [
    "clf = ExtraTreesClassifier()"
   ]
  },
  {
   "cell_type": "code",
   "execution_count": 101,
   "id": "d0d79ce1",
   "metadata": {},
   "outputs": [],
   "source": [
    "params = {'max_depth' : (4,8,12,16), 'min_samples_split':(4,8,12,16),'criterion':['gini', 'entropy'], \n",
    "          'n_estimators' : [5,25,100,125], 'max_features':['sqrt', 'log2']}"
   ]
  },
  {
   "cell_type": "code",
   "execution_count": 103,
   "id": "d40f2354",
   "metadata": {},
   "outputs": [
    {
     "data": {
      "text/html": [
       "<style>#sk-container-id-2 {color: black;background-color: white;}#sk-container-id-2 pre{padding: 0;}#sk-container-id-2 div.sk-toggleable {background-color: white;}#sk-container-id-2 label.sk-toggleable__label {cursor: pointer;display: block;width: 100%;margin-bottom: 0;padding: 0.3em;box-sizing: border-box;text-align: center;}#sk-container-id-2 label.sk-toggleable__label-arrow:before {content: \"▸\";float: left;margin-right: 0.25em;color: #696969;}#sk-container-id-2 label.sk-toggleable__label-arrow:hover:before {color: black;}#sk-container-id-2 div.sk-estimator:hover label.sk-toggleable__label-arrow:before {color: black;}#sk-container-id-2 div.sk-toggleable__content {max-height: 0;max-width: 0;overflow: hidden;text-align: left;background-color: #f0f8ff;}#sk-container-id-2 div.sk-toggleable__content pre {margin: 0.2em;color: black;border-radius: 0.25em;background-color: #f0f8ff;}#sk-container-id-2 input.sk-toggleable__control:checked~div.sk-toggleable__content {max-height: 200px;max-width: 100%;overflow: auto;}#sk-container-id-2 input.sk-toggleable__control:checked~label.sk-toggleable__label-arrow:before {content: \"▾\";}#sk-container-id-2 div.sk-estimator input.sk-toggleable__control:checked~label.sk-toggleable__label {background-color: #d4ebff;}#sk-container-id-2 div.sk-label input.sk-toggleable__control:checked~label.sk-toggleable__label {background-color: #d4ebff;}#sk-container-id-2 input.sk-hidden--visually {border: 0;clip: rect(1px 1px 1px 1px);clip: rect(1px, 1px, 1px, 1px);height: 1px;margin: -1px;overflow: hidden;padding: 0;position: absolute;width: 1px;}#sk-container-id-2 div.sk-estimator {font-family: monospace;background-color: #f0f8ff;border: 1px dotted black;border-radius: 0.25em;box-sizing: border-box;margin-bottom: 0.5em;}#sk-container-id-2 div.sk-estimator:hover {background-color: #d4ebff;}#sk-container-id-2 div.sk-parallel-item::after {content: \"\";width: 100%;border-bottom: 1px solid gray;flex-grow: 1;}#sk-container-id-2 div.sk-label:hover label.sk-toggleable__label {background-color: #d4ebff;}#sk-container-id-2 div.sk-serial::before {content: \"\";position: absolute;border-left: 1px solid gray;box-sizing: border-box;top: 0;bottom: 0;left: 50%;z-index: 0;}#sk-container-id-2 div.sk-serial {display: flex;flex-direction: column;align-items: center;background-color: white;padding-right: 0.2em;padding-left: 0.2em;position: relative;}#sk-container-id-2 div.sk-item {position: relative;z-index: 1;}#sk-container-id-2 div.sk-parallel {display: flex;align-items: stretch;justify-content: center;background-color: white;position: relative;}#sk-container-id-2 div.sk-item::before, #sk-container-id-2 div.sk-parallel-item::before {content: \"\";position: absolute;border-left: 1px solid gray;box-sizing: border-box;top: 0;bottom: 0;left: 50%;z-index: -1;}#sk-container-id-2 div.sk-parallel-item {display: flex;flex-direction: column;z-index: 1;position: relative;background-color: white;}#sk-container-id-2 div.sk-parallel-item:first-child::after {align-self: flex-end;width: 50%;}#sk-container-id-2 div.sk-parallel-item:last-child::after {align-self: flex-start;width: 50%;}#sk-container-id-2 div.sk-parallel-item:only-child::after {width: 0;}#sk-container-id-2 div.sk-dashed-wrapped {border: 1px dashed gray;margin: 0 0.4em 0.5em 0.4em;box-sizing: border-box;padding-bottom: 0.4em;background-color: white;}#sk-container-id-2 div.sk-label label {font-family: monospace;font-weight: bold;display: inline-block;line-height: 1.2em;}#sk-container-id-2 div.sk-label-container {text-align: center;}#sk-container-id-2 div.sk-container {/* jupyter's `normalize.less` sets `[hidden] { display: none; }` but bootstrap.min.css set `[hidden] { display: none !important; }` so we also need the `!important` here to be able to override the default hidden behavior on the sphinx rendered scikit-learn.org. See: https://github.com/scikit-learn/scikit-learn/issues/21755 */display: inline-block !important;position: relative;}#sk-container-id-2 div.sk-text-repr-fallback {display: none;}</style><div id=\"sk-container-id-2\" class=\"sk-top-container\"><div class=\"sk-text-repr-fallback\"><pre>GridSearchCV(estimator=ExtraTreesClassifier(),\n",
       "             param_grid={&#x27;criterion&#x27;: [&#x27;gini&#x27;, &#x27;entropy&#x27;],\n",
       "                         &#x27;max_depth&#x27;: (4, 8, 12, 16),\n",
       "                         &#x27;max_features&#x27;: [&#x27;sqrt&#x27;, &#x27;log2&#x27;],\n",
       "                         &#x27;min_samples_split&#x27;: (4, 8, 12, 16),\n",
       "                         &#x27;n_estimators&#x27;: [5, 25, 100, 125]})</pre><b>In a Jupyter environment, please rerun this cell to show the HTML representation or trust the notebook. <br />On GitHub, the HTML representation is unable to render, please try loading this page with nbviewer.org.</b></div><div class=\"sk-container\" hidden><div class=\"sk-item sk-dashed-wrapped\"><div class=\"sk-label-container\"><div class=\"sk-label sk-toggleable\"><input class=\"sk-toggleable__control sk-hidden--visually\" id=\"sk-estimator-id-4\" type=\"checkbox\" ><label for=\"sk-estimator-id-4\" class=\"sk-toggleable__label sk-toggleable__label-arrow\">GridSearchCV</label><div class=\"sk-toggleable__content\"><pre>GridSearchCV(estimator=ExtraTreesClassifier(),\n",
       "             param_grid={&#x27;criterion&#x27;: [&#x27;gini&#x27;, &#x27;entropy&#x27;],\n",
       "                         &#x27;max_depth&#x27;: (4, 8, 12, 16),\n",
       "                         &#x27;max_features&#x27;: [&#x27;sqrt&#x27;, &#x27;log2&#x27;],\n",
       "                         &#x27;min_samples_split&#x27;: (4, 8, 12, 16),\n",
       "                         &#x27;n_estimators&#x27;: [5, 25, 100, 125]})</pre></div></div></div><div class=\"sk-parallel\"><div class=\"sk-parallel-item\"><div class=\"sk-item\"><div class=\"sk-label-container\"><div class=\"sk-label sk-toggleable\"><input class=\"sk-toggleable__control sk-hidden--visually\" id=\"sk-estimator-id-5\" type=\"checkbox\" ><label for=\"sk-estimator-id-5\" class=\"sk-toggleable__label sk-toggleable__label-arrow\">estimator: ExtraTreesClassifier</label><div class=\"sk-toggleable__content\"><pre>ExtraTreesClassifier()</pre></div></div></div><div class=\"sk-serial\"><div class=\"sk-item\"><div class=\"sk-estimator sk-toggleable\"><input class=\"sk-toggleable__control sk-hidden--visually\" id=\"sk-estimator-id-6\" type=\"checkbox\" ><label for=\"sk-estimator-id-6\" class=\"sk-toggleable__label sk-toggleable__label-arrow\">ExtraTreesClassifier</label><div class=\"sk-toggleable__content\"><pre>ExtraTreesClassifier()</pre></div></div></div></div></div></div></div></div></div></div>"
      ],
      "text/plain": [
       "GridSearchCV(estimator=ExtraTreesClassifier(),\n",
       "             param_grid={'criterion': ['gini', 'entropy'],\n",
       "                         'max_depth': (4, 8, 12, 16),\n",
       "                         'max_features': ['sqrt', 'log2'],\n",
       "                         'min_samples_split': (4, 8, 12, 16),\n",
       "                         'n_estimators': [5, 25, 100, 125]})"
      ]
     },
     "execution_count": 103,
     "metadata": {},
     "output_type": "execute_result"
    }
   ],
   "source": [
    "grd = GridSearchCV(clf, param_grid = params)\n",
    "\n",
    "grd.fit(x_train, y_train)"
   ]
  },
  {
   "cell_type": "code",
   "execution_count": 104,
   "id": "0015e565",
   "metadata": {},
   "outputs": [
    {
     "name": "stdout",
     "output_type": "stream",
     "text": [
      "Best Parameters = {'criterion': 'gini', 'max_depth': 16, 'max_features': 'log2', 'min_samples_split': 4, 'n_estimators': 125}\n"
     ]
    }
   ],
   "source": [
    "print(\"Best Parameters =\" ,grd.best_params_)"
   ]
  },
  {
   "cell_type": "code",
   "execution_count": 113,
   "id": "c7c94cce",
   "metadata": {},
   "outputs": [],
   "source": [
    "xt_clf = ExtraTreesClassifier(max_depth = 16, min_samples_split = 4, \n",
    "                              criterion = 'gini', n_estimators = 125, max_features = 'log2')"
   ]
  },
  {
   "cell_type": "code",
   "execution_count": 114,
   "id": "542621da",
   "metadata": {},
   "outputs": [
    {
     "name": "stdout",
     "output_type": "stream",
     "text": [
      "training confucion matrix [[11493  2628]\n",
      " [  619 13501]]\n",
      "testing confucion matrix [[3396 1024]\n",
      " [ 251 4155]]\n",
      "test                precision    recall  f1-score   support\n",
      "\n",
      "           0       0.93      0.77      0.84      4420\n",
      "           1       0.80      0.94      0.87      4406\n",
      "\n",
      "    accuracy                           0.86      8826\n",
      "   macro avg       0.87      0.86      0.85      8826\n",
      "weighted avg       0.87      0.86      0.85      8826\n",
      "\n",
      "training                precision    recall  f1-score   support\n",
      "\n",
      "           0       0.95      0.81      0.88     14121\n",
      "           1       0.84      0.96      0.89     14120\n",
      "\n",
      "    accuracy                           0.89     28241\n",
      "   macro avg       0.89      0.89      0.88     28241\n",
      "weighted avg       0.89      0.89      0.88     28241\n",
      "\n",
      "cross_val_score [0.82944091 0.84206799 0.83002833 0.81657224 0.83640227]\n",
      "cross_val_score Mean 0.8338767494872581\n"
     ]
    }
   ],
   "source": [
    "model9 = xt_clf\n",
    "func(model9, x_train,y_train,x_test,y_test,cv_x,cv_y)"
   ]
  },
  {
   "cell_type": "code",
   "execution_count": null,
   "id": "425e8324",
   "metadata": {},
   "outputs": [],
   "source": []
  },
  {
   "cell_type": "markdown",
   "id": "0c7fda78",
   "metadata": {},
   "source": [
    "#### * Our cv_score and accuracy have increases after hyperparameter tunning."
   ]
  },
  {
   "cell_type": "markdown",
   "id": "fafdf018",
   "metadata": {},
   "source": [
    "### Saving the model"
   ]
  },
  {
   "cell_type": "code",
   "execution_count": 115,
   "id": "5973701f",
   "metadata": {},
   "outputs": [
    {
     "data": {
      "text/plain": [
       "['census1.pkl']"
      ]
     },
     "execution_count": 115,
     "metadata": {},
     "output_type": "execute_result"
    }
   ],
   "source": [
    "# Saving the model :\n",
    "\n",
    "import joblib #importing the job\n",
    "  \n",
    "# Save the model as a pickle in a file \n",
    "joblib.dump(model9,'census1.pkl')"
   ]
  },
  {
   "cell_type": "code",
   "execution_count": 116,
   "id": "33d055dc",
   "metadata": {},
   "outputs": [
    {
     "data": {
      "text/plain": [
       "['census1.csv']"
      ]
     },
     "execution_count": 116,
     "metadata": {},
     "output_type": "execute_result"
    }
   ],
   "source": [
    "#saving the predicted as csv\n",
    "\n",
    "joblib.dump(model9,'census1.csv')"
   ]
  },
  {
   "cell_type": "code",
   "execution_count": 117,
   "id": "1674f642",
   "metadata": {},
   "outputs": [
    {
     "data": {
      "text/plain": [
       "array([1, 1, 1, ..., 1, 1, 0])"
      ]
     },
     "execution_count": 117,
     "metadata": {},
     "output_type": "execute_result"
    }
   ],
   "source": [
    "#lets call the model and predict it\n",
    "x=joblib.load('census1.csv')\n",
    "x.predict(x_test)"
   ]
  },
  {
   "cell_type": "code",
   "execution_count": null,
   "id": "103deaf5",
   "metadata": {},
   "outputs": [],
   "source": []
  }
 ],
 "metadata": {
  "kernelspec": {
   "display_name": "Python 3 (ipykernel)",
   "language": "python",
   "name": "python3"
  },
  "language_info": {
   "codemirror_mode": {
    "name": "ipython",
    "version": 3
   },
   "file_extension": ".py",
   "mimetype": "text/x-python",
   "name": "python",
   "nbconvert_exporter": "python",
   "pygments_lexer": "ipython3",
   "version": "3.9.12"
  }
 },
 "nbformat": 4,
 "nbformat_minor": 5
}
